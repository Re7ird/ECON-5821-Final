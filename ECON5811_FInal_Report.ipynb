{
 "cells": [
  {
   "cell_type": "markdown",
   "id": "98ad1eff-8840-4595-9b95-602ed4780f64",
   "metadata": {
    "tags": []
   },
   "source": [
    "$$\\LARGE\\textbf{ECON5811 Final Report} $$"
   ]
  },
  {
   "cell_type": "markdown",
   "id": "3f7fb60e-1b12-4bd9-99e6-5b408948e063",
   "metadata": {},
   "source": [
    "$$\\small\\textbf{Daichengzhi|1155184716@link.cuhk.edu.hk} $$"
   ]
  },
  {
   "cell_type": "markdown",
   "id": "66bceea6-532a-49cc-9fdf-d3d2d3c5b474",
   "metadata": {},
   "source": [
    "$$\\small\\textbf{Luominghao|1155183588@link.cuhk.edu.hk} $$"
   ]
  },
  {
   "cell_type": "markdown",
   "id": "798d7922-3167-4c13-97db-de3a1a09da11",
   "metadata": {},
   "source": [
    "$$\\small\\textbf{Liuxiaoyu|1155180314@link.cuhk.edu.hk} $$"
   ]
  },
  {
   "cell_type": "markdown",
   "id": "dcf868bc-eac5-45fb-8d63-ca7e88db6413",
   "metadata": {},
   "source": [
    "$$\\small\\textbf{Huguiquan|1155183531@link.cuhk.edu.hk} $$"
   ]
  },
  {
   "cell_type": "markdown",
   "id": "5d252c88-dc63-44e6-ab3a-9269502777ae",
   "metadata": {},
   "source": [
    "$$\\normalsize\\textbf{2023-05-18} $$"
   ]
  },
  {
   "cell_type": "markdown",
   "id": "c5161647-a5ed-4c8e-a9fd-e0d2c2ad48c1",
   "metadata": {},
   "source": [
    "In this project, we have constructed a predictive framework using Lasso regression to forecast the following period's inflation rate through Consumer Price Index (CPI) and Producer Price Index (PPI) values. By employing methods such as Principal Component Analysis (PCA) and adding lag term, we let Lasso model can better predict the future inflation level. We have exploited larger, more complex datasets and capture more nuanced relationships in the data.In addition, we also adjusted the parameters to optimize the model to achieve the best predictive performance. Finally, we evaluated the performance of different models by conducting multiple tests."
   ]
  },
  {
   "cell_type": "markdown",
   "id": "4e06ee8a-0b59-45f0-83e4-3b96a8d56d86",
   "metadata": {},
   "source": [
    "$$\\Large\\textbf{I) Data&Introduction} $$"
   ]
  },
  {
   "cell_type": "markdown",
   "id": "0be396f4-e289-4fd7-8844-b7b6d78048ed",
   "metadata": {},
   "source": [
    "Our goal is to predict inflation, often measured by changing rate of the Consumer Price Index (CPI) and Consumer Price Index(PPI). Achieving our goal is actually dealing with time series data. The panel data have 152 varibles and 168 time period.\n",
    "\n",
    "Firstly, we apply PCA on our dataset to reduce its dimensionality. PCA will transform the original variables into a smaller set of uncorrelated variables (principal components) while preserving the most significant variance in the data.Then we  use the retained principal components to transform our data. This transformation replaces the original variables with the reduced set of principal components, effectively reducing the dimensionality of the dataset. \n",
    "\n",
    "Secondly, we apply LASSO regression on the transformed dataset using the reduced set of principal components. LASSO helps in selecting a subset of the transformed variables (principal components) that are most relevant and have a significant impact on the outcome variable.\n",
    "\n",
    "And then, we will adjust the parameters to optimize the model to achieve the best predictive performance.\n",
    "\n",
    "Finally, we use our model to predict the CPI and evaluate our results."
   ]
  },
  {
   "cell_type": "code",
   "execution_count": 11,
   "id": "e30ad60e-4387-4f9a-a65d-d8fd40743a12",
   "metadata": {
    "vscode": {
     "languageId": "r"
    }
   },
   "outputs": [],
   "source": [
    "#import our data and packages we use and set seed \n",
    "options(warn = 0)\n",
    "load(url(\"https://github.com/zhentaoshi/Econ5821/raw/main/data_example/dataset_inf.Rdata\"))\n",
    "suppressPackageStartupMessages(library(tidyverse))\n",
    "suppressPackageStartupMessages(library(glmnet))\n",
    "suppressPackageStartupMessages(library(doParallel))\n",
    "registerDoParallel(detectCores()-1)\n",
    "\n",
    "set.seed(10)"
   ]
  },
  {
   "cell_type": "code",
   "execution_count": 12,
   "id": "9fdf27ff-dc14-4ba2-a380-6634a5f6db28",
   "metadata": {
    "vscode": {
     "languageId": "r"
    }
   },
   "outputs": [],
   "source": [
    "#Lag=1:\n",
    "\n",
    "# Merge the CPI and X data frames based on the 'month' column\n",
    "data_1=merge(cpi,X,by=\"month\",all = T)\n",
    "\n",
    "\n",
    "# Add a new column 'y' representing the CPI value of the next month\n",
    "data_1=data_1 |> mutate(y=lead(CPI))"
   ]
  },
  {
   "cell_type": "markdown",
   "id": "39b3d5a3-c079-447c-84fc-7ea4e60888ed",
   "metadata": {},
   "source": [
    "$$\\Large\\textbf{II) Model Training Basic Method} $$"
   ]
  },
  {
   "cell_type": "markdown",
   "id": "c800b2c3-bc78-4942-a62b-70eae98f76b7",
   "metadata": {},
   "source": [
    "$$\\normalsize\\textbf{PCA} $$"
   ]
  },
  {
   "cell_type": "markdown",
   "id": "031c534a-823d-4880-bfa2-c87d1fe740b3",
   "metadata": {},
   "source": [
    "In our dataset, we are dealing with a high-dimensional problem that consists of 152 variables, which are highly correlated. Such high-dimensional data can lead to what is referred to as the \"curse of dimensionality.\" This term implies that as the dimensionality increases, the volume of the data grows exponentially, making it more challenging to train models effectively. Moreover, models trained on high-dimensional data are more prone to overfitting.\n",
    "\n",
    "To tackle this issue, we propose using Principal Component Analysis (PCA), a popular dimensionality reduction technique. PCA has the ability to transform the original data into a set of new, orthogonal variables known as principal components. These principal components capture most of the variability in the original data while simultaneously reducing the data's dimensionality.\n",
    "\n",
    "By reducing the data's dimensionality, we can improve computational efficiency, enhance data visualization, filter out noise, and avoid overfitting, all while retaining as much information as possible. As a result, PCA provides us with a more tractable, lower-dimensional representation of our data.\n",
    "\n"
   ]
  },
  {
   "cell_type": "code",
   "execution_count": 13,
   "id": "97abb48f-2c78-454c-8205-aabfc310706f",
   "metadata": {
    "vscode": {
     "languageId": "r"
    }
   },
   "outputs": [
    {
     "data": {
      "text/plain": [
       "Importance of components:\n",
       "                            Comp.1      Comp.2      Comp.3      Comp.4\n",
       "Standard deviation     268.7636737 143.0231068 138.6440930 82.45258169\n",
       "Proportion of Variance   0.5452118   0.1543962   0.1450864  0.05131361\n",
       "Cumulative Proportion    0.5452118   0.6996079   0.8446944  0.89600800\n",
       "                            Comp.5      Comp.6     Comp.7      Comp.8\n",
       "Standard deviation     61.38072098 40.91835950 38.4059010 37.15638016\n",
       "Proportion of Variance  0.02843728  0.01263748  0.0111332  0.01042056\n",
       "Cumulative Proportion   0.92444528  0.93708276  0.9482160  0.95863652\n",
       "                             Comp.9      Comp.10      Comp.11      Comp.12\n",
       "Standard deviation     31.651042974 30.021974875 25.129617564 20.631205101\n",
       "Proportion of Variance  0.007561364  0.006803033  0.004766459  0.003212723\n",
       "Cumulative Proportion   0.966197883  0.973000916  0.977767375  0.980980098\n",
       "                            Comp.13      Comp.14     Comp.15      Comp.16\n",
       "Standard deviation     18.897905975 17.870388615 16.55308556 15.549665834\n",
       "Proportion of Variance  0.002695575  0.002410416  0.00206815  0.001825014\n",
       "Cumulative Proportion   0.983675673  0.986086090  0.98815424  0.989979254\n",
       "                            Comp.17      Comp.18      Comp.19      Comp.20\n",
       "Standard deviation     13.142680928 12.145159564 11.629090953 1.064504e+01\n",
       "Proportion of Variance  0.001303743  0.001113347  0.001020741 8.553005e-04\n",
       "Cumulative Proportion   0.991282997  0.992396344  0.993417085 9.942724e-01\n",
       "                            Comp.21      Comp.22      Comp.23      Comp.24\n",
       "Standard deviation     1.037110e+01 8.7933254346 8.0473934706 7.9570811911\n",
       "Proportion of Variance 8.118462e-04 0.0005836203 0.0004888038 0.0004778941\n",
       "Cumulative Proportion  9.950842e-01 0.9956678520 0.9961566558 0.9966345499\n",
       "                           Comp.25      Comp.26      Comp.27      Comp.28\n",
       "Standard deviation     7.587187854 7.0607511833 6.5912358783 5.8889784172\n",
       "Proportion of Variance 0.000434496 0.0003762928 0.0003279124 0.0002617604\n",
       "Cumulative Proportion  0.997069046 0.9974453387 0.9977732511 0.9980350115\n",
       "                            Comp.29      Comp.30      Comp.31      Comp.32\n",
       "Standard deviation     5.7509371605 5.5648290274 5.0300239466 4.9666605592\n",
       "Proportion of Variance 0.0002496326 0.0002337371 0.0001909696 0.0001861886\n",
       "Cumulative Proportion  0.9982846441 0.9985183813 0.9987093509 0.9988955394\n",
       "                            Comp.33      Comp.34      Comp.35      Comp.36\n",
       "Standard deviation     4.6225722416 3.8809776255 3.8332447776 3.465368e+00\n",
       "Proportion of Variance 0.0001612841 0.0001136858 0.0001109066 9.064061e-05\n",
       "Cumulative Proportion  0.9990568235 0.9991705094 0.9992814159 9.993721e-01\n",
       "                            Comp.37      Comp.38      Comp.39      Comp.40\n",
       "Standard deviation     3.304048e+00 2.835038e+00 2.648666e+00 2.575296e+00\n",
       "Proportion of Variance 8.239801e-05 6.066552e-05 5.295154e-05 5.005858e-05\n",
       "Cumulative Proportion  9.994545e-01 9.995151e-01 9.995681e-01 9.996181e-01\n",
       "                            Comp.41      Comp.42      Comp.43      Comp.44\n",
       "Standard deviation     2.434414e+00 2.276075e+00 2.140571e+00 2.025625e+00\n",
       "Proportion of Variance 4.473143e-05 3.910183e-05 3.458465e-05 3.097007e-05\n",
       "Cumulative Proportion  9.996629e-01 9.997020e-01 9.997365e-01 9.997675e-01\n",
       "                            Comp.45      Comp.46      Comp.47      Comp.48\n",
       "Standard deviation     2.008358e+00 1.771765e+00 1.629866e+00 1.515719e+00\n",
       "Proportion of Variance 3.044432e-05 2.369389e-05 2.005061e-05 1.734048e-05\n",
       "Cumulative Proportion  9.997980e-01 9.998217e-01 9.998417e-01 9.998590e-01\n",
       "                            Comp.49      Comp.50      Comp.51      Comp.52\n",
       "Standard deviation     1.468052e+00 1.374073e+00 1.359132e+00 1.177102e+00\n",
       "Proportion of Variance 1.626699e-05 1.425095e-05 1.394271e-05 1.045809e-05\n",
       "Cumulative Proportion  9.998753e-01 9.998896e-01 9.999035e-01 9.999140e-01\n",
       "                            Comp.53      Comp.54      Comp.55      Comp.56\n",
       "Standard deviation     1.132694e+00 1.112096e+00 9.963234e-01 9.683048e-01\n",
       "Proportion of Variance 9.683870e-06 9.334881e-06 7.492466e-06 7.076985e-06\n",
       "Cumulative Proportion  9.999237e-01 9.999330e-01 9.999405e-01 9.999476e-01\n",
       "                            Comp.57      Comp.58      Comp.59      Comp.60\n",
       "Standard deviation     9.324580e-01 8.595176e-01 8.371360e-01 8.211564e-01\n",
       "Proportion of Variance 6.562702e-06 5.576139e-06 5.289518e-06 5.089509e-06\n",
       "Cumulative Proportion  9.999541e-01 9.999597e-01 9.999650e-01 9.999701e-01\n",
       "                            Comp.61      Comp.62      Comp.63      Comp.64\n",
       "Standard deviation     7.138191e-01 6.688031e-01 5.987956e-01 5.560344e-01\n",
       "Proportion of Variance 3.845922e-06 3.376141e-06 2.706334e-06 2.333605e-06\n",
       "Cumulative Proportion  9.999739e-01 9.999773e-01 9.999800e-01 9.999823e-01\n",
       "                            Comp.65      Comp.66      Comp.67      Comp.68\n",
       "Standard deviation     4.700295e-01 4.475210e-01 4.291476e-01 4.039708e-01\n",
       "Proportion of Variance 1.667533e-06 1.511649e-06 1.390073e-06 1.231754e-06\n",
       "Cumulative Proportion  9.999840e-01 9.999855e-01 9.999869e-01 9.999881e-01\n",
       "                            Comp.69      Comp.70      Comp.71      Comp.72\n",
       "Standard deviation     3.987875e-01 3.743468e-01 3.591902e-01 3.345051e-01\n",
       "Proportion of Variance 1.200348e-06 1.057724e-06 9.738072e-07 8.445583e-07\n",
       "Cumulative Proportion  9.999893e-01 9.999904e-01 9.999914e-01 9.999922e-01\n",
       "                            Comp.73      Comp.74      Comp.75      Comp.76\n",
       "Standard deviation     3.211991e-01 3.015616e-01 2.984232e-01 2.827378e-01\n",
       "Proportion of Variance 7.787046e-07 6.863980e-07 6.721857e-07 6.033812e-07\n",
       "Cumulative Proportion  9.999930e-01 9.999937e-01 9.999943e-01 9.999950e-01\n",
       "                            Comp.77      Comp.78      Comp.79      Comp.80\n",
       "Standard deviation     2.661096e-01 2.533498e-01 2.385111e-01 2.304599e-01\n",
       "Proportion of Variance 5.344968e-07 4.844682e-07 4.293794e-07 4.008805e-07\n",
       "Cumulative Proportion  9.999955e-01 9.999960e-01 9.999964e-01 9.999968e-01\n",
       "                            Comp.81      Comp.82      Comp.83      Comp.84\n",
       "Standard deviation     2.201666e-01 2.014406e-01 1.891706e-01 1.818841e-01\n",
       "Proportion of Variance 3.658700e-07 3.062795e-07 2.701043e-07 2.496970e-07\n",
       "Cumulative Proportion  9.999972e-01 9.999975e-01 9.999977e-01 9.999980e-01\n",
       "                            Comp.85      Comp.86      Comp.87      Comp.88\n",
       "Standard deviation     1.736785e-01 1.720179e-01 1.597974e-01 1.523215e-01\n",
       "Proportion of Variance 2.276755e-07 2.233426e-07 1.927364e-07 1.751242e-07\n",
       "Cumulative Proportion  9.999982e-01 9.999984e-01 9.999986e-01 9.999988e-01\n",
       "                            Comp.89      Comp.90      Comp.91      Comp.92\n",
       "Standard deviation     1.467853e-01 1.402936e-01 1.336119e-01 1.246033e-01\n",
       "Proportion of Variance 1.626257e-07 1.485593e-07 1.347455e-07 1.171881e-07\n",
       "Cumulative Proportion  9.999990e-01 9.999991e-01 9.999993e-01 9.999994e-01\n",
       "                            Comp.93      Comp.94      Comp.95      Comp.96\n",
       "Standard deviation     1.205477e-01 1.069906e-01 9.531912e-02 8.455658e-02\n",
       "Proportion of Variance 1.096837e-07 8.640032e-08 6.857790e-08 5.396584e-08\n",
       "Cumulative Proportion  9.999995e-01 9.999996e-01 9.999996e-01 9.999997e-01\n",
       "                            Comp.97      Comp.98      Comp.99     Comp.100\n",
       "Standard deviation     8.138190e-02 6.728289e-02 6.458811e-02 5.911965e-02\n",
       "Proportion of Variance 4.998961e-08 3.416909e-08 3.148685e-08 2.638079e-08\n",
       "Cumulative Proportion  9.999997e-01 9.999998e-01 9.999998e-01 9.999998e-01\n",
       "                           Comp.101     Comp.102     Comp.103     Comp.104\n",
       "Standard deviation     5.320623e-02 5.107202e-02 4.662544e-02 4.291516e-02\n",
       "Proportion of Variance 2.136727e-08 1.968748e-08 1.640854e-08 1.390098e-08\n",
       "Cumulative Proportion  9.999999e-01 9.999999e-01 9.999999e-01 9.999999e-01\n",
       "                           Comp.105     Comp.106     Comp.107     Comp.108\n",
       "Standard deviation     3.968007e-02 3.838926e-02 3.446827e-02 3.337122e-02\n",
       "Proportion of Variance 1.188417e-08 1.112355e-08 8.967327e-09 8.405590e-09\n",
       "Cumulative Proportion  9.999999e-01 9.999999e-01 9.999999e-01 9.999999e-01\n",
       "                           Comp.109     Comp.110     Comp.111     Comp.112\n",
       "Standard deviation     3.125050e-02 3.031812e-02 2.726592e-02 2.412804e-02\n",
       "Proportion of Variance 7.371197e-09 6.937907e-09 5.611311e-09 4.394081e-09\n",
       "Cumulative Proportion  1.000000e+00 1.000000e+00 1.000000e+00 1.000000e+00\n",
       "                           Comp.113     Comp.114     Comp.115     Comp.116\n",
       "Standard deviation     2.383409e-02 2.174860e-02 2.093203e-02 1.761293e-02\n",
       "Proportion of Variance 4.287670e-09 3.570152e-09 3.307095e-09 2.341462e-09\n",
       "Cumulative Proportion  1.000000e+00 1.000000e+00 1.000000e+00 1.000000e+00\n",
       "                           Comp.117     Comp.118     Comp.119     Comp.120\n",
       "Standard deviation     1.686909e-02 1.650652e-02 1.546872e-02 1.467073e-02\n",
       "Proportion of Variance 2.147866e-09 2.056530e-09 1.806062e-09 1.624530e-09\n",
       "Cumulative Proportion  1.000000e+00 1.000000e+00 1.000000e+00 1.000000e+00\n",
       "                           Comp.121     Comp.122     Comp.123     Comp.124\n",
       "Standard deviation     1.213101e-02 1.125518e-02 1.077335e-02 9.665910e-03\n",
       "Proportion of Variance 1.110754e-09 9.561563e-10 8.760438e-10 7.051955e-10\n",
       "Cumulative Proportion  1.000000e+00 1.000000e+00 1.000000e+00 1.000000e+00\n",
       "                           Comp.125     Comp.126     Comp.127     Comp.128\n",
       "Standard deviation     8.627447e-03 8.102976e-03 7.864523e-03 6.845383e-03\n",
       "Proportion of Variance 5.618090e-10 4.955793e-10 4.668409e-10 3.536874e-10\n",
       "Cumulative Proportion  1.000000e+00 1.000000e+00 1.000000e+00 1.000000e+00\n",
       "                           Comp.129     Comp.130     Comp.131     Comp.132\n",
       "Standard deviation     5.918789e-03 5.012740e-03 4.255589e-03 4.114289e-03\n",
       "Proportion of Variance 2.644173e-10 1.896595e-10 1.366921e-10 1.277655e-10\n",
       "Cumulative Proportion  1.000000e+00 1.000000e+00 1.000000e+00 1.000000e+00\n",
       "                           Comp.133     Comp.134     Comp.135     Comp.136\n",
       "Standard deviation     3.389623e-03 2.656994e-03 2.342779e-03 2.244645e-03\n",
       "Proportion of Variance 8.672152e-11 5.328503e-11 4.142730e-11 3.802939e-11\n",
       "Cumulative Proportion  1.000000e+00 1.000000e+00 1.000000e+00 1.000000e+00\n",
       "                           Comp.137     Comp.138     Comp.139     Comp.140\n",
       "Standard deviation     1.861385e-03 1.780125e-03 1.586962e-03 1.241441e-03\n",
       "Proportion of Variance 2.615150e-11 2.391801e-11 1.900890e-11 1.163259e-11\n",
       "Cumulative Proportion  1.000000e+00 1.000000e+00 1.000000e+00 1.000000e+00\n",
       "                           Comp.141     Comp.142     Comp.143     Comp.144\n",
       "Standard deviation     8.944477e-04 6.690608e-04 5.058805e-04 3.601797e-04\n",
       "Proportion of Variance 6.038568e-12 3.378744e-12 1.931612e-12 9.791800e-13\n",
       "Cumulative Proportion  1.000000e+00 1.000000e+00 1.000000e+00 1.000000e+00\n",
       "                           Comp.145     Comp.146     Comp.147     Comp.148\n",
       "Standard deviation     2.896401e-04 1.897557e-04 1.460059e-04 4.098979e-05\n",
       "Proportion of Variance 6.332010e-13 2.717776e-13 1.609032e-13 1.268164e-14\n",
       "Cumulative Proportion  1.000000e+00 1.000000e+00 1.000000e+00 1.000000e+00\n",
       "                       Comp.149 Comp.150 Comp.151\n",
       "Standard deviation            0        0        0\n",
       "Proportion of Variance        0        0        0\n",
       "Cumulative Proportion         1        1        1"
      ]
     },
     "metadata": {},
     "output_type": "display_data"
    }
   ],
   "source": [
    "pca_data=data_1 |> select(!c(\"month\",\"y\",\"CPI\"))\n",
    "PCA=princomp(pca_data)\n",
    "summary(PCA)"
   ]
  },
  {
   "cell_type": "markdown",
   "id": "3a2b0a0d-c581-4a5e-a186-3a3fdfd3d314",
   "metadata": {},
   "source": [
    "We use 12 months of data to train the regression and one month to do the testing(rolling windows)."
   ]
  },
  {
   "cell_type": "code",
   "execution_count": 14,
   "id": "231522a9-801d-4cf0-b813-8332967b2e7e",
   "metadata": {
    "vscode": {
     "languageId": "r"
    }
   },
   "outputs": [],
   "source": [
    "\n",
    "y_train=data_1[1:12,\"y\"]\n",
    "y_test=data_1[13,\"y\"]\n",
    "x_train=data_1[1:12,] |> select(!c(\"month\",\"y\"))\n",
    "x_test=data_1[13,] |> select(!c(\"month\",\"y\"))\n",
    "\n",
    "#Train the PCA model\n",
    "pca_data=data_1 |> select(!c(\"month\",\"y\",\"CPI\"))\n",
    "PCA=princomp(pca_data)\n",
    "\n",
    "#collect 8 Principal Components and train the lasso regression.\n",
    "PC=predict(PCA,newdata = x_train)[,1:8]\n"
   ]
  },
  {
   "cell_type": "markdown",
   "id": "9932c3e6-bd22-4fa2-bc2f-b0fbf867599f",
   "metadata": {},
   "source": [
    "From our PCA analysis, we observed that the first eight principal components account for over 95% of the variance in our data. We assume that all other dimensions are noises and the first 8 components contain all the information we need.\n",
    "We acknowledge that our assumption classifying the remaining components as 'noise' may not be completely sound, our analysis based on the stability assumption of conditional expectations  $E(y_{t+1}|X_t)$ , but we believe our model can still provide a substantial prediction power.\n"
   ]
  },
  {
   "cell_type": "markdown",
   "id": "d738d41c-5429-46f1-9e4e-718b4bea67ab",
   "metadata": {},
   "source": [
    "$$\\normalsize\\textbf{LASSO} $$"
   ]
  },
  {
   "cell_type": "markdown",
   "id": "f0fb2e9c-0b01-4ee4-bb08-8b99cb360006",
   "metadata": {},
   "source": [
    "Secondly, we apply LASSO regression on the transformed dataset using the reduced set of principal components. LASSO helps in selecting a subset of the transformed variables (principal components) that are most relevant and have a significant impact on the outcome variable."
   ]
  },
  {
   "cell_type": "markdown",
   "id": "cdae29b0-62af-4af5-9aad-55ab331ae8b4",
   "metadata": {},
   "source": [
    "\n",
    "\n",
    "$$\\normalsize\\text{Here is our model} $$\n",
    "$$\n",
    "E(y_{t+1}|X_t) =\\alpha+  PC_t \\beta  \\quad t \\in [i,i+12] \\quad\n",
    "$$\n",
    "$$\n",
    "y_{t+1} =\\alpha+  PC_t \\beta  + \\epsilon\n",
    "$$\n",
    "\n",
    "for any int $i≥1$.\n",
    "\n",
    "$\\beta$ is the coefficient matrix and $\\alpha$ is the intercept.\n",
    "\n"
   ]
  },
  {
   "cell_type": "code",
   "execution_count": 15,
   "id": "680745fe-dc54-4290-be5c-933b00092aa1",
   "metadata": {
    "vscode": {
     "languageId": "r"
    }
   },
   "outputs": [
    {
     "data": {
      "text/html": [
       "0.304353356843454"
      ],
      "text/latex": [
       "0.304353356843454"
      ],
      "text/markdown": [
       "0.304353356843454"
      ],
      "text/plain": [
       "[1] 0.3043534"
      ]
     },
     "metadata": {},
     "output_type": "display_data"
    },
    {
     "data": {
      "text/plain": [
       "9 x 1 sparse Matrix of class \"dgCMatrix\"\n",
       "                       s0\n",
       "(Intercept)  1.012623e+02\n",
       "Comp.1       3.674581e-05\n",
       "Comp.2       .           \n",
       "Comp.3       .           \n",
       "Comp.4       .           \n",
       "Comp.5       .           \n",
       "Comp.6       1.893137e-03\n",
       "Comp.7       1.628028e-02\n",
       "Comp.8      -5.174814e-03"
      ]
     },
     "metadata": {},
     "output_type": "display_data"
    },
    {
     "data": {
      "text/plain": [
       "          Length Class     Mode   \n",
       "a0        1      -none-    numeric\n",
       "beta      8      dgCMatrix S4     \n",
       "df        1      -none-    numeric\n",
       "dim       2      -none-    numeric\n",
       "lambda    1      -none-    numeric\n",
       "dev.ratio 1      -none-    numeric\n",
       "nulldev   1      -none-    numeric\n",
       "npasses   1      -none-    numeric\n",
       "jerr      1      -none-    numeric\n",
       "offset    1      -none-    logical\n",
       "call      5      -none-    call   \n",
       "nobs      1      -none-    numeric"
      ]
     },
     "metadata": {},
     "output_type": "display_data"
    },
    {
     "data": {
      "text/html": [
       "<strong>s1:</strong> 101.728548151028"
      ],
      "text/latex": [
       "\\textbf{s1:} 101.728548151028"
      ],
      "text/markdown": [
       "**s1:** 101.728548151028"
      ],
      "text/plain": [
       "      s1 \n",
       "101.7285 "
      ]
     },
     "metadata": {},
     "output_type": "display_data"
    },
    {
     "data": {
      "text/html": [
       "102.1"
      ],
      "text/latex": [
       "102.1"
      ],
      "text/markdown": [
       "102.1"
      ],
      "text/plain": [
       "[1] 102.1"
      ]
     },
     "metadata": {},
     "output_type": "display_data"
    }
   ],
   "source": [
    "#collect 8 Principal Components and train the lasso regression.\n",
    "PC=predict(PCA,newdata = x_train)[,1:8]\n",
    "\n",
    "#Calculate scores for testing\n",
    "PC_test=predict(PCA,newdata = x_test)[,1:8]\n",
    "\n",
    "#Train the Lasso Regression: Find Lambda\n",
    "cv_model <- cv.glmnet(PC, y_train, alpha = 1,nfolds = 3)\n",
    "best_lambda <- cv_model$lambda.min\n",
    "\n",
    "#display optimal lambda value\n",
    "best_lambda\n",
    "\n",
    "#view coefficients of best model\n",
    "pca_lasso <- glmnet(PC, y_train, alpha = 1, lambda =best_lambda)\n",
    "coef(pca_lasso)\n",
    "summary(pca_lasso)\n",
    "\n",
    "#make a prediction for the response value of a new observation\n",
    "yp=predict(pca_lasso, s = best_lambda, newx = PC_test)[1,1]\n",
    "\n",
    "yp\n",
    "y_test"
   ]
  },
  {
   "cell_type": "markdown",
   "id": "01eabae1-b485-4349-a71c-9318a9331ba3",
   "metadata": {},
   "source": [
    "prediction value is 101.728548151028 and real value is 101.728548151028"
   ]
  },
  {
   "cell_type": "markdown",
   "id": "be2c4257-a171-4783-8b71-eacaa59a74f7",
   "metadata": {},
   "source": [
    "The intercept (Intercept) is 1.012623e+02, which means that when all independent variables (Comp.1 to Comp.8) are 0, the predicted result is 101.2623.\n",
    "\n",
    "In the principal components Comp.1 to Comp.8, most of the coefficients are compressed to 0, which shows that Lasso regression successfully performs feature selection and eliminates those features that have little effect on the target variable. Only the four features Comp.1, Comp.6, Comp.7 and Comp.8 were preserved in the model.\n",
    "\n",
    "The coefficient of Comp.1 is 3.674581e-05, which means that for every increase of one unit of Comp.1, the predicted result will increase by 0.00003674581 units.\n",
    "\n",
    "The coefficient of Comp.6 is 1.893137e-03, which means that for every increase of one unit of Comp.6, the predicted result will increase by 0.001893137 units.\n",
    "\n",
    "The coefficient of Comp.7 is 1.628028e-02, which means that for every additional unit of Comp.7, the predicted result will increase by 0.01628028 units.\n",
    "\n",
    "The coefficient of Comp.8 is -5.174814e-03, which means that for every additional unit of Comp.8, the predicted result will decrease by 0.005174814 units.\n",
    "\n",
    "The deviation ratio (dev.ratio) of the model is 0.304353356843454, which means that the model explains about 30.43% of the variability of the target variable. This ratio is too low and needs to be further adjusted."
   ]
  },
  {
   "cell_type": "markdown",
   "id": "3607e954-8516-41f4-b9d6-d56f28b4fb4a",
   "metadata": {},
   "source": [
    "$$\\Large\\textbf{III) Improvement of Model} $$"
   ]
  },
  {
   "cell_type": "markdown",
   "id": "23ba2a1d-1d25-4f21-bdfb-4bfb53a954ab",
   "metadata": {},
   "source": [
    "The idea that a lagged version of a variable can be predictive of its future values is often a useful idea in processing time series analysis.\n",
    "CPI is a broad measure of price changes and prices often don't change drastically from month to month, and thus play an important role in predicting future CPI.\n",
    "Base on the idea, we consider the inflation of one month will affect the next month so we introduced an alternative model that added the CPI of the month into the Lasso regression."
   ]
  },
  {
   "cell_type": "markdown",
   "id": "8788883f-5ef5-4b0d-8313-a096f19e88db",
   "metadata": {},
   "source": [
    "Based on more general model:\\begin{aligned}E(y_{t}|X_{t-Lag})=\\alpha+PC_{t-Lag}\\beta+CPI_{t-Lag}*\\beta\\quad {t-Lag}\\in[i,i+windowsize]\\\\ \\end{aligned}"
   ]
  },
  {
   "cell_type": "markdown",
   "id": "581cea11-f17e-4b82-90c3-3c79f15e02ad",
   "metadata": {},
   "source": [
    "$$y_{t}=\\alpha+PC_{t-Lag}\\beta+CPI_{t-Lag}*\\beta+\\epsilon$$"
   ]
  },
  {
   "cell_type": "markdown",
   "id": "6156f908-b133-40fa-8522-87156d1f5a91",
   "metadata": {},
   "source": [
    "We try to do some adjustment for the original model to improving our model."
   ]
  },
  {
   "cell_type": "markdown",
   "id": "1a9a7c9b-0f79-4950-8873-28dedd4c0347",
   "metadata": {},
   "source": [
    "\n",
    "\n",
    "Lag=1 means we use $X_t$ to predict $y_{t+1}$. \n",
    "\n",
    "To find the best lag to predict CPI and PPI, we also tried Lag=2 and Lag=3(a quarter) .\n",
    "\n",
    "And then we tried PCA with 8, 9, and 10 dimensions to see if there are significant improvement. \n",
    "\n",
    "Combining all these differences, We tested 18 models in total.\n",
    "\n",
    "$$\\textbf{note:}$$\n",
    "\n",
    "We are going to conduct an analysis using two distinct methods.\n",
    "\n",
    "In the first method, we will not consider the past Consumer Price Index (CPI) as an individual explanatory variable. Instead, it will be incorporated as part of the dimension reduction process via Principal Component Analysis (PCA), which will then be used in the regression analysis.\n",
    "\n",
    "The second method entails treating the CPI separately and utilizing it as an independent explanatory variable in our analysis.\n",
    "\n",
    "We will be implementing tests using three lag values: 1, 2, and 3. This means we will evaluate the predictive potential of the data from the previous three months for both the CPI and the Producer Price Index (PPI). A 1-lag model suggests that the data from the immediately preceding period has the strongest influence in predicting the CPI and PPI for the current month. A 2-lag model indicates a stronger predictive power using data from the past two periods, and a 3-lag model suggests that data from the preceding three periods is most influential in forecasting the CPI and PPI for the current month. As we increase the lag, we consider a larger span of historical data in order to predict the current month's CPI and PPI. Selecting an appropriate lag, depending on the specific circumstances, can yield more accurate forecast results.\n",
    "\n",
    "Additionally, we'll be using 8, 9, and 10 PCA components respectively in our analysis.\n",
    "\n",
    "Thus, we test 2* 3 * 3 = 18 models."
   ]
  },
  {
   "cell_type": "code",
   "execution_count": 16,
   "id": "4b059549-2357-48fa-bed8-6a23ed2f9e93",
   "metadata": {
    "vscode": {
     "languageId": "r"
    }
   },
   "outputs": [
    {
     "name": "stdout",
     "output_type": "stream",
     "text": [
      "The R-square is: 0.6414074 \n",
      "The R-square is: 0.6377326 \n",
      "The R-square is: 0.6309221 \n",
      "The R-square is: 0.6304512 \n",
      "The R-square is: 0.5203348 \n",
      "The R-square is: 0.5379603 \n",
      "The R-square is: 0.9314103 \n",
      "The R-square is: 0.9272951 \n",
      "The R-square is: 0.8725943 \n",
      "The R-square is: 0.8784236 \n",
      "The R-square is: 0.7978111 \n",
      "The R-square is: 0.7876312 \n",
      "[1] \"Results:\"\n",
      "mean: \t 0.63957 \t 0.6306866 \t 0.5291476 \t 0.9293527 \t 0.875509 \t 0.7927212 \n",
      "stdev: \t 0.002598508 \t 0.0003329482 \t 0.01246312 \t 0.002909856 \t 0.004122001 \t 0.007198264 \n",
      "The R-square is: 0.6323295 \n",
      "The R-square is: 0.6163082 \n",
      "The R-square is: 0.6155294 \n",
      "The R-square is: 0.613153 \n",
      "The R-square is: 0.5396702 \n",
      "The R-square is: 0.5337958 \n",
      "The R-square is: 0.9275668 \n",
      "The R-square is: 0.9228278 \n",
      "The R-square is: 0.8795718 \n",
      "The R-square is: 0.8903801 \n",
      "The R-square is: 0.777807 \n",
      "The R-square is: 0.809033 \n",
      "[1] \"Results:\"\n",
      "mean: \t 0.6243188 \t 0.6143412 \t 0.536733 \t 0.9251973 \t 0.884976 \t 0.79342 \n",
      "stdev: \t 0.01132877 \t 0.001680386 \t 0.004153839 \t 0.003350959 \t 0.00764267 \t 0.02208013 \n",
      "The R-square is: 0.6093143 \n",
      "The R-square is: 0.6021783 \n",
      "The R-square is: 0.5815972 \n",
      "The R-square is: 0.5951094 \n",
      "The R-square is: 0.5144188 \n",
      "The R-square is: 0.5125976 \n",
      "The R-square is: 0.9195405 \n",
      "The R-square is: 0.9174696 \n",
      "The R-square is: 0.8696546 \n",
      "The R-square is: 0.8593911 \n",
      "The R-square is: 0.7789523 \n",
      "The R-square is: 0.7642473 \n",
      "[1] \"Results:\"\n",
      "mean: \t 0.6057463 \t 0.5883533 \t 0.5135082 \t 0.9185051 \t 0.8645228 \t 0.7715998 \n",
      "stdev: \t 0.005045917 \t 0.009554604 \t 0.001287846 \t 0.001464309 \t 0.00725736 \t 0.010398 \n"
     ]
    },
    {
     "name": "stderr",
     "output_type": "stream",
     "text": [
      "Warning message in par(new = TRUE):\n",
      "“calling par(new=TRUE) with no plot”\n"
     ]
    },
    {
     "data": {
      "image/png": "[encoded data removed]",
      "text/plain": [
       "plot without title"
      ]
     },
     "metadata": {
      "image/png": {
       "height": 420,
       "width": 420
      }
     },
     "output_type": "display_data"
    },
    {
     "data": {
      "image/png": "[encoded data removed]",
      "text/plain": [
       "plot without title"
      ]
     },
     "metadata": {
      "image/png": {
       "height": 420,
       "width": 420
      }
     },
     "output_type": "display_data"
    },
    {
     "data": {
      "image/png": "[encoded data removed]",
      "text/plain": [
       "plot without title"
      ]
     },
     "metadata": {
      "image/png": {
       "height": 420,
       "width": 420
      }
     },
     "output_type": "display_data"
    },
    {
     "name": "stderr",
     "output_type": "stream",
     "text": [
      "\u001b[1m\u001b[22mSaving 6.67 x 6.67 in image\n"
     ]
    },
    {
     "name": "stdout",
     "output_type": "stream",
     "text": [
      "Total duration: "
     ]
    },
    {
     "data": {
      "text/plain": [
       "Time difference of 4.590154 mins"
      ]
     },
     "metadata": {},
     "output_type": "display_data"
    },
    {
     "data": {
      "image/png": "[encoded data removed]",
      "text/plain": [
       "plot without title"
      ]
     },
     "metadata": {
      "image/png": {
       "height": 420,
       "width": 420
      }
     },
     "output_type": "display_data"
    }
   ],
   "source": [
    "# Clear all objects\n",
    "rm(list = ls())\n",
    "n=2\n",
    "\n",
    "\n",
    "load(url(\"https://github.com/zhentaoshi/Econ5821/raw/main/data_example/dataset_inf.Rdata\"))\n",
    "\n",
    "\n",
    "#-----------------Start-----------------#\n",
    "st=Sys.time()\n",
    "\n",
    "#Lag=1:\n",
    "data_1=merge(cpi,X,by=\"month\",all = T)\n",
    "data_1=data_1 |> mutate(y=lead(CPI)) |> filter(is.na(y)==F)\n",
    "\n",
    "#Lag=2:\n",
    "data_2=merge(cpi,X,by=\"month\",all = T)\n",
    "data_2=data_2 |> mutate(y=lead(CPI,n=2)) |> filter(is.na(y)==F)\n",
    "\n",
    "#Lag=3:\n",
    "data_3=merge(cpi,X,by=\"month\",all = T)\n",
    "data_3=data_3 |> mutate(y=lead(CPI,n=3)) |> filter(is.na(y)==F)\n",
    "\n",
    "#Train the PCA model\n",
    "pca_data=X |> select(!c(\"month\"))\n",
    "PCA=princomp(pca_data)\n",
    "\n",
    "##------------------------------#Functions:---------------------------##\n",
    "\n",
    "pca_lasso_test <- function(i,data) {\n",
    "  j=i+59\n",
    "  k=i+60\n",
    "  y_train=data[i:j,\"y\"]\n",
    "  y_test=data[k,\"y\"]\n",
    "  x_train=data[i:j,] |> select(!c(\"month\",\"y\"))\n",
    "  x_test=data[k,] |> select(!c(\"month\",\"y\"))\n",
    "  \n",
    "  \n",
    "  #collect 8 Principal Components and train the lasso regression.\n",
    "  PC=predict(PCA,newdata = x_train)[,1:dim]\n",
    "  \n",
    "  #Calculate scores for testin\n",
    "  PC_test=predict(PCA,newdata = x_test)[,1:dim]\n",
    "  \n",
    "  #find lambda\n",
    "  cv_model <- cv.glmnet(PC, y_train, alpha = 1)\n",
    "  best_lambda <- cv_model$lambda.min\n",
    "  \n",
    "  #display optimal lambda value\n",
    "  best_lambda\n",
    "  \n",
    "  #view plot of test MSE's vs. lambda values\n",
    "  \n",
    "  #view coefficients of best model\n",
    "  pca_lasso <- glmnet(PC, y_train, alpha = 1, lambda =best_lambda)\n",
    "  coef(pca_lasso)\n",
    "  summary(pca_lasso)\n",
    "  \n",
    "  #make a prediction for the response value of a new observation\n",
    "  yp=predict(pca_lasso, s = best_lambda, newx = PC_test)[1,1]\n",
    "  return(c(yp,y_test))\n",
    "  \n",
    "}\n",
    "\n",
    "pca_lasso_test2 <- function(i,data) {\n",
    "  j=i+59\n",
    "  k=i+60\n",
    "  y_train=data[i:j,\"y\"]\n",
    "  y_test=data[k,\"y\"]\n",
    "  x_train=data[i:j,] |> select(!c(\"month\",\"y\",\"CPI\"))\n",
    "  x_train_cpi=data[i:j,\"CPI\"] \n",
    "  x_test=data[k,] |> select(!c(\"month\",\"y\",\"CPI\"))\n",
    "  x_test_cpi=data[k,\"CPI\"]\n",
    "  \n",
    "  \n",
    "  #collect 8 Principal Components and train the lasso regression.\n",
    "  PC=predict(PCA,newdata = x_train)[,1:dim]\n",
    "  PCs=cbind(PC,x_train_cpi)\n",
    "  \n",
    "  #Calculate scores for testing\n",
    "  PC_test=predict(PCA,newdata = x_test)[,1:dim]\n",
    "  PC_test2=append(PC_test,x_test_cpi)\n",
    "  \n",
    "  #find lambda\n",
    "  cv_model <- cv.glmnet(PCs, y_train, alpha = 1,nfolds = 3)\n",
    "  best_lambda <- cv_model$lambda.min\n",
    "  \n",
    "  #display optimal lambda value\n",
    "  best_lambda\n",
    "  \n",
    "  #view coefficients of best model\n",
    "\n",
    "  pca_lasso2 <- glmnet(PCs, y_train, alpha = 1, lambda =best_lambda)\n",
    "  coef(pca_lasso2)\n",
    "  summary(pca_lasso2)\n",
    "  \n",
    "  #make a prediction for the response value of a new observation\n",
    "\n",
    "  yp=predict(pca_lasso2, s = best_lambda, newx = PC_test2)[1,1]\n",
    "  return(c(yp,y_test))\n",
    "  \n",
    "}\n",
    "\n",
    "\n",
    "rsquare_test <- function(yt,y_predicted) {\n",
    "  sst <- sum((yt - mean(yt))^2)\n",
    "  sse <- sum((y_predicted - yt)^2)\n",
    "  \n",
    "  rsq <- 1 - sse/sst\n",
    "  \n",
    "  cat(\"The R-square is:\",rsq,\"\\n\") \n",
    "  return(rsq)\n",
    "}\n",
    "\n",
    "\n",
    "#------------------------------\n",
    "\n",
    "rep_test1 <- function(data){\n",
    "  y_predicted=vector()\n",
    "  yt=vector()\n",
    "    \n",
    "  ## Rolling window test\n",
    "  for (x in 1:100) {\n",
    "\n",
    "    results=pca_lasso_test(i = x,data)\n",
    "    y_test = results[2]\n",
    "    yp=results[1]\n",
    "    y_predicted = append(y_predicted,yp)\n",
    "    yt=append(yt,y_test)\n",
    "  }\n",
    "  rsquare_test(yt,y_predicted = y_predicted)\n",
    "  \n",
    "}\n",
    "\n",
    "rep_test2 <- function(data){\n",
    "  y_predicted=vector()\n",
    "  yt=vector()\n",
    "    \n",
    "## Rolling window test\n",
    "  for (x in 1:100)  {\n",
    "    results=pca_lasso_test2(i=x,data)\n",
    "    y_test = results[2]\n",
    "    yp=results[1]\n",
    "    y_predicted = append(y_predicted,yp)\n",
    "    yt=append(yt,y_test)\n",
    "  }\n",
    "  rsquare_test(yt,y_predicted = y_predicted)\n",
    "  \n",
    "}\n",
    "\n",
    "\n",
    "#---------------------Run test---------------------#\n",
    "\n",
    "#------------------test 1----------------#\n",
    "runtest <- function(){\n",
    "    rsqv=c()\n",
    "    for (t in 1:n) {\n",
    "\n",
    "      rsqv=append(rsqv,rep_test1(data_1))\n",
    "\n",
    "    }\n",
    "    rcpi_1_1 <- rsqv\n",
    "\n",
    "    #------------------test 2----------------#\n",
    "    #Lag=2,method=1\n",
    "\n",
    "    rsqv=c()\n",
    "    for (t in 1:n){\n",
    "\n",
    "      rsqv=append(rsqv,rep_test1(data_2))\n",
    "\n",
    "    }\n",
    "    rcpi_1_2 <- rsqv\n",
    "\n",
    "\n",
    "\n",
    "    #------------------test 3----------------#\n",
    "    #Lag=3,method=1\n",
    "\n",
    "    rsqv=c()\n",
    "    for (t in 1:n){\n",
    "\n",
    "      rsqv=append(rsqv,rep_test1(data_3))\n",
    "\n",
    "    }\n",
    "    rcpi_1_3 <- rsqv\n",
    "\n",
    "    #------------------test 4----------------#\n",
    "    #Lag=1,method=2\n",
    "\n",
    "    rsqv=c()\n",
    "    for (t in 1:n){\n",
    "\n",
    "      rsqv=append(rsqv,rep_test2(data_1))\n",
    "\n",
    "    }\n",
    "\n",
    "    rcpi_2_1 <- rsqv\n",
    "\n",
    "    #------------------test 5----------------#\n",
    "    #Lag=2,method=2\n",
    "\n",
    "    rsqv=c()\n",
    "    for (t in 1:n){\n",
    "\n",
    "      rsqv=append(rsqv,rep_test2(data_2))\n",
    "\n",
    "    }\n",
    "    rcpi_2_2 <- rsqv\n",
    "\n",
    "\n",
    "\n",
    "    #------------------test 6----------------#\n",
    "    #Lag=3,method=2\n",
    "\n",
    "    rsqv=c()\n",
    "    for (t in 1:n){\n",
    "\n",
    "      rsqv=append(rsqv,rep_test2(data_3))\n",
    "\n",
    "    }\n",
    "    rcpi_2_3 <- rsqv\n",
    "    \n",
    "    results <- matrix(data=c(mean(rcpi_1_1),mean(rcpi_1_2),mean(rcpi_1_3),\n",
    "                             mean(rcpi_2_1),mean(rcpi_2_2),mean(rcpi_2_3),\n",
    "                             sd(rcpi_1_1),sd(rcpi_1_2),sd(rcpi_1_3),\n",
    "                             sd(rcpi_2_1),sd(rcpi_2_2),sd(rcpi_2_3)),\n",
    "                      nrow = 2,ncol = 6,byrow = T)\n",
    "\n",
    "    print(\"Results:\")\n",
    "    cat(\"mean: \\t\",mean(rcpi_1_1),\"\\t\",mean(rcpi_1_2),\"\\t\",mean(rcpi_1_3),\"\\t\",mean(rcpi_2_1),\n",
    "        \"\\t\",mean(rcpi_2_2),\"\\t\",mean(rcpi_2_3),\"\\n\")\n",
    "    cat(\"stdev: \\t\",sd(rcpi_1_1),\"\\t\",sd(rcpi_1_2),\"\\t\",sd(rcpi_1_3),\"\\t\",sd(rcpi_2_1),\"\\t\",sd(rcpi_2_2),\n",
    "        \"\\t\",sd(rcpi_2_3),\"\\n\")\n",
    "    \n",
    "    return(results)\n",
    "}    \n",
    "\n",
    "\n",
    "\n",
    "##-----------------------------------------------------##\n",
    "dim=8\n",
    "res_1 <-runtest()[1,]\n",
    "dim=9\n",
    "res_2 <-runtest()[1,]\n",
    "dim=10\n",
    "res_3 <-runtest()[1,]\n",
    "\n",
    "res=rbind(res_1,res_2,res_3)\n",
    "res2=t(res)\n",
    "par(new = TRUE)\n",
    "plot(res2[,1],type = \"l\")\n",
    "plot(res2[,2],type = \"l\")\n",
    "plot(res2[,3],type = \"l\")\n",
    "\n",
    "pl=data.frame(res2)\n",
    "index=1:6\n",
    "pl=cbind(pl,index)\n",
    "\n",
    "ggplot(data = pl)+\n",
    "  geom_line(color = \"green\", mapping=aes(y=res_1,x=index))+\n",
    "  geom_line(color = \"red\", mapping=aes(y=res_2,x=index))+\n",
    "  geom_line(color = \"blue\", mapping=aes(y=res_3,x=index))\n",
    "\n",
    "ggsave(filename = \"ResultsCPI_2.png\")\n",
    "\n",
    "ed=Sys.time()\n",
    "dr=ed-st\n",
    "\n",
    "cat(\"Total duration: \")\n",
    "dr\n"
   ]
  },
  {
   "cell_type": "markdown",
   "id": "ba57320d-9223-4e25-8a11-a01ae83b07b9",
   "metadata": {},
   "source": [
    "$$\\textbf{note:}$$\n",
    "\n",
    "In our project the calculation of inflation rate is through:$$IR=\\log(cpi_t) - \\log(cpi_{t-12}))$$\n",
    "IR means inflation rate\n",
    "\n",
    "$$\\text{Regarding the model for calculating inflation rates using CPI (Consumer Price Index) and PPI (Producer Price Index),}$$\n",
    "$$\\text{please refer to the \"final_model_CPI_infl_rate.R\" and \"final_model_PPI_infl_rate.R\" for detailed procedures.}$$\n",
    "\n",
    "\n",
    "We have to point out we've explored in another model. In that model, we initially compute inflation rate, then use this inflation as the dependent variable 'y', and the preceding inflation values as the independent variable 'x', all while maintaining other variables constant. We've executed equivalent tests with that model which firstly calculate inflation rate, but the outcomes of that were less satisfactory in comparison to those we utilized the Consumer Price Index (CPI) as both the lag explanatory and dependent variables before we final predicting of inflation rate. \n",
    "\n",
    "\n",
    "\n",
    "$$\\textbf{interpreting}$$\n",
    "From graphs we know, Rsquare of index 4-5-6 are higher than Rsquare of index 1-2-3, which means the model where the lagged variable (CPI) is isolated as an explanatory variable performs superior to the model where it is incorporated directly in the Principal Component Analysis (PCA) dimension reduction. \n",
    "Isolating important variables before applying PCA can enhance the predictive capability of the model.\n",
    "\n",
    "Following this approach, which involves training a model using CPI and then using the predicted CPI to estimate inflation rates, the final calculation of inflation proved more effective.\n",
    "\n",
    "\n",
    "From the output, it appears that the best results are obtained when using the second method (method=2) and lag=1 (Lag=1) since it has the highest R-square value of 0.92935 with a dimension of 8. A higher R-squared value indicates a better fit for the model."
   ]
  },
  {
   "cell_type": "markdown",
   "id": "c1d075aa-7955-440b-852c-ec62607887eb",
   "metadata": {},
   "source": [
    "Thus, finally we choose the model below $$\\textbf{Final model}$$"
   ]
  },
  {
   "cell_type": "markdown",
   "id": "42d8fd02-47cf-4cd5-98f5-1976087d867e",
   "metadata": {},
   "source": [
    "$$\\text{The best model for CPI:\"Lag=1, with CPI as independent variable, dim = 8, window size = 60\"}$$"
   ]
  },
  {
   "cell_type": "code",
   "execution_count": 24,
   "id": "0a34d80a-42a6-46c7-bb34-f834306f39a4",
   "metadata": {
    "vscode": {
     "languageId": "r"
    }
   },
   "outputs": [
    {
     "name": "stdout",
     "output_type": "stream",
     "text": [
      "[1] \"R-Square of CPI:\"\n",
      "The R-square is: 0.9124924 \n"
     ]
    },
    {
     "data": {
      "text/html": [
       "0.912492403701492"
      ],
      "text/latex": [
       "0.912492403701492"
      ],
      "text/markdown": [
       "0.912492403701492"
      ],
      "text/plain": [
       "[1] 0.9124924"
      ]
     },
     "metadata": {},
     "output_type": "display_data"
    },
    {
     "name": "stdout",
     "output_type": "stream",
     "text": [
      "[1] \"R-Square of inflation rate:\"\n",
      "The R-square is: 0.9673493 \n"
     ]
    },
    {
     "data": {
      "text/html": [
       "0.967349341586773"
      ],
      "text/latex": [
       "0.967349341586773"
      ],
      "text/markdown": [
       "0.967349341586773"
      ],
      "text/plain": [
       "[1] 0.9673493"
      ]
     },
     "metadata": {},
     "output_type": "display_data"
    }
   ],
   "source": [
    "# Clear all objects\n",
    "rm(list = ls())\n",
    "\n",
    "#Final model for CPI:\n",
    "#The best model for CPI:\"Lag=1, with CPI as independent variable, dim = 8, window size = 60\"\n",
    "\n",
    "suppressPackageStartupMessages(library(tidyverse))\n",
    "suppressPackageStartupMessages(library(glmnet))\n",
    "suppressPackageStartupMessages(library(doParallel))\n",
    "registerDoParallel(detectCores()-1)\n",
    "set.seed(10)\n",
    "\n",
    "\n",
    "windowlength=60\n",
    "dim=8\n",
    "\n",
    "load(url(\"https://github.com/zhentaoshi/Econ5821/raw/main/data_example/dataset_inf.Rdata\"))\n",
    "load(url(\"https://github.com/zhentaoshi/Econ5821/raw/main/data_example/data_oos.Rdata\"))\n",
    "\n",
    "\n",
    "#Lag=1 data:\n",
    "data_1=rbind(X,real.X)\n",
    "data_1=merge(rbind(cpi,real.cpi),data_1,by=\"month\",all = T)\n",
    "data_1=data_1 |> mutate(y=lead(CPI))\n",
    "\n",
    "#Train the PCA model\n",
    "pca_data=X |> select(!c(\"month\"))\n",
    "PCA=princomp(pca_data)\n",
    "\n",
    "##------------------------------#Functions:---------------------------##\n",
    "\n",
    "pca_lasso_test2 <- function(i,data) {\n",
    "  a=windowlength-1\n",
    "  b=windowlength\n",
    "  \n",
    "  j=i+a\n",
    "  k=i+b\n",
    "  y_train=data[i:j,\"y\"]\n",
    "  y_test=data[k,\"y\"]\n",
    "  x_train=data[i:j,] |> select(!c(\"month\",\"y\",\"CPI\"))\n",
    "  x_train_cpi=data[i:j,\"CPI\"] \n",
    "  x_test=data[k,] |> select(!c(\"month\",\"y\",\"CPI\"))\n",
    "  x_test_cpi=data[k,\"CPI\"]\n",
    "  \n",
    "  \n",
    "  #collect Principal Components and train the lasso regression.\n",
    "  PC=predict(PCA,newdata = x_train)[,1:dim]\n",
    "  PCs=cbind(PC,x_train_cpi)\n",
    "  \n",
    "  #Calculate scores for testing\n",
    "  PC_test=predict(PCA,newdata = x_test)[,1:dim]\n",
    "  PC_test2=append(PC_test,x_test_cpi)\n",
    "  \n",
    "  #find lambda\n",
    "  cv_model <- cv.glmnet(PCs, y_train, alpha = 1,nfolds = 3)\n",
    "  best_lambda <- cv_model$lambda.min\n",
    "  \n",
    "  #display optimal lambda value\n",
    "  best_lambda\n",
    "  \n",
    "  #view coefficients of best model\n",
    "  \n",
    "  pca_lasso2 <- glmnet(PCs, y_train, alpha = 1, lambda =best_lambda)\n",
    "  coef(pca_lasso2)\n",
    "  summary(pca_lasso2)\n",
    "  \n",
    "  #make a prediction for the response value of a new observation\n",
    "  \n",
    "  yp=predict(pca_lasso2, s = best_lambda, newx = PC_test2)[1,1]\n",
    "  return(c((k+1),yp,y_test))\n",
    "  \n",
    "}\n",
    "\n",
    "\n",
    "rsquare_test <- function(yt,y_predicted) {\n",
    "  sst <- sum((yt - mean(yt))^2)\n",
    "  sse <- sum((y_predicted - yt)^2)\n",
    "  \n",
    "  rsq <- 1 - sse/sst\n",
    "  \n",
    "  cat(\"The R-square is:\",rsq,\"\\n\") \n",
    "  return(rsq)\n",
    "}\n",
    "\n",
    "rep_test2 <- function(data){\n",
    "  \n",
    "  ## Rolling window test\n",
    "  result <-foreach (x = 1:(197-windowlength),.combine = \"rbind\") %dopar% {\n",
    "    pca_lasso_test2(i = x,data)\n",
    "  }\n",
    "  result=data.frame(result)\n",
    "  colnames(result) <- c(\"month\",\"CPI_predicted\",\"CPI_true\")\n",
    "  return(result)\n",
    "  \n",
    "}\n",
    "\n",
    "result <- rep_test2(data_1)\n",
    "\n",
    "## Test the prediction out of sample R Square\n",
    "\n",
    "\n",
    "yp=result[result$month %in% 1:198,]$CPI_predicted\n",
    "yt=result[result$month %in% 1:198,]$CPI_true\n",
    "\n",
    "#R-Square of price prediction\n",
    "print(\"R-Square of CPI:\")\n",
    "rsquare_test(yt,yp)\n",
    "\n",
    "## calculate inflation rate\n",
    "\n",
    "result=result |> mutate(inflation_predicted=log(CPI_predicted)-log(lag(CPI_true,n=12)),\n",
    "                        inflation_true=log(CPI_true)-log(lag(CPI_true,n=12))\n",
    "                        )\n",
    "result2=result |> filter(is.na(inflation_predicted)==F)\n",
    "\n",
    "inf_p=result2[result2$month %in% 1:198,]$inflation_predicted\n",
    "inf_t=result2[result2$month %in% 1:198,]$inflation_true\n",
    "\n",
    "#R-Square of inflation\n",
    "print(\"R-Square of inflation rate:\")\n",
    "rsquare_test(inf_t,inf_p)\n",
    "\n",
    "###Result2 is the final answer\n",
    "resultCPI=result2\n"
   ]
  },
  {
   "cell_type": "markdown",
   "id": "535c931e-1929-4ac5-aa46-5c03f6609162",
   "metadata": {},
   "source": [
    "$$\\textbf{note:}$$The first R-squared value  refers to the R-squared of the price prediction. This is evaluating how well our model is able to predict the CPI values in the test data. It measures the proportion of the variance in the observed CPI values that can be explained by the model.\n",
    "\n",
    "The second R-squared value refers to the R-squared of the inflation prediction. In this case, the model is predicting inflation (calculated as the logarithmic difference of CPI values over a 12 month period). It measures the proportion of the variance in the observed inflation values that can be explained by the model.\n",
    "\n",
    "$$\\textbf{interpreting}$$\n",
    "\n",
    "\n",
    "The first R-squared value refers to the R-squared of the CPI prediction. It is 0.9124924, which suggests that about 91.24% of the variability in the future CPI values can be explained by our model.\n",
    "\n",
    "The second R-squared value refers to the R-squared of the inflation prediction. It is 0.9673493, which suggests that about 96.73% of the variability in the future inflation rate values can be explained by our model.\n",
    "\n",
    "Note: each time we run the file, the results will be slightly different."
   ]
  },
  {
   "cell_type": "markdown",
   "id": "2078b04e-667d-4bdb-a8e1-4709831a231f",
   "metadata": {},
   "source": [
    "$$\\Large\\textbf{Iv) Predict PPI} $$"
   ]
  },
  {
   "cell_type": "markdown",
   "id": "34d9a74b-0821-4535-94ff-6c309913e4be",
   "metadata": {},
   "source": [
    "Just like the process mentioned above, we also predict PPI."
   ]
  },
  {
   "cell_type": "markdown",
   "id": "46f0d1cb-b9e5-402b-b4a1-54594eaf84b7",
   "metadata": {},
   "source": [
    "$$\\normalsize\\textbf{Repeat Testing} $$\n",
    "\n"
   ]
  },
  {
   "cell_type": "code",
   "execution_count": 18,
   "id": "01837729-b800-42ad-80e3-7b083ffd8456",
   "metadata": {
    "vscode": {
     "languageId": "r"
    }
   },
   "outputs": [
    {
     "name": "stdout",
     "output_type": "stream",
     "text": [
      "[1] \"Results:\"\n",
      "mean: \t 0.8469282 \t 0.8375837 \t 0.812336 \t 0.9778174 \t 0.9308155 \t 0.8833201 \n",
      "stdev: \t 0.001507237 \t 0.002870251 \t 0.001518531 \t 0.0005862627 \t 0.0005991799 \t 0.003879919 \n",
      "[1] \"Results:\"\n",
      "mean: \t 0.8443679 \t 0.8275112 \t 0.7936187 \t 0.9776933 \t 0.9296869 \t 0.8766476 \n",
      "stdev: \t 0.001643988 \t 0.00464781 \t 0.002953168 \t 0.0002742197 \t 0.002813622 \t 0.004623059 \n",
      "[1] \"Results:\"\n",
      "mean: \t 0.848081 \t 0.8255054 \t 0.7988572 \t 0.9766742 \t 0.9337043 \t 0.8835255 \n",
      "stdev: \t 0.001612682 \t 0.0005926555 \t 0.002785958 \t 0.001009945 \t 0.002879024 \t 0.004575945 \n"
     ]
    },
    {
     "name": "stderr",
     "output_type": "stream",
     "text": [
      "Warning message in par(new = TRUE):\n",
      "“calling par(new=TRUE) with no plot”\n"
     ]
    },
    {
     "name": "stdout",
     "output_type": "stream",
     "text": [
      "Total duration: "
     ]
    },
    {
     "data": {
      "text/plain": [
       "Time difference of 8.079859 mins"
      ]
     },
     "metadata": {},
     "output_type": "display_data"
    }
   ],
   "source": [
    "# Clear all objects\n",
    "rm(list = ls())\n",
    "\n",
    "\n",
    "n=2\n",
    "set.seed(10)\n",
    "\n",
    "load(url(\"https://github.com/zhentaoshi/Econ5821/raw/main/data_example/dataset_inf.Rdata\"))\n",
    "\n",
    "\n",
    "#-----------------Start-----------------#\n",
    "st=Sys.time()\n",
    "\n",
    "#Lag=1:\n",
    "data_1=merge(ppi,X,by=\"month\",all = T)\n",
    "data_1=data_1 |> mutate(y=lead(PPI)) |> filter(is.na(y)==F)\n",
    "\n",
    "#Lag=2:\n",
    "data_2=merge(ppi,X,by=\"month\",all = T)\n",
    "data_2=data_2 |> mutate(y=lead(PPI,n=2)) |> filter(is.na(y)==F)\n",
    "\n",
    "#Lag=3:\n",
    "data_3=merge(ppi,X,by=\"month\",all = T)\n",
    "data_3=data_3 |> mutate(y=lead(PPI,n=3)) |> filter(is.na(y)==F)\n",
    "\n",
    "#Train the PCA model\n",
    "pca_data=X |> select(!c(\"month\"))\n",
    "PCA=princomp(pca_data)\n",
    "\n",
    "##------------------------------#Functions:---------------------------##\n",
    "\n",
    "pca_lasso_test <- function(i,data) {\n",
    "  j=i+83\n",
    "  k=i+84\n",
    "  y_train=data[i:j,\"y\"]\n",
    "  y_test=data[k,\"y\"]\n",
    "  x_train=data[i:j,] |> select(!c(\"month\",\"y\"))\n",
    "  x_test=data[k,] |> select(!c(\"month\",\"y\"))\n",
    "  \n",
    "  \n",
    "  #collect 8 Principal Components and train the lasso regression.\n",
    "  PC=predict(PCA,newdata = x_train)[,1:dim]\n",
    "  \n",
    "  #Calculate scores for testin\n",
    "  PC_test=predict(PCA,newdata = x_test)[,1:dim]\n",
    "  \n",
    "  #find lambda\n",
    "  cv_model <- cv.glmnet(PC, y_train, alpha = 1)\n",
    "  best_lambda <- cv_model$lambda.min\n",
    "  \n",
    "  #display optimal lambda value\n",
    "  best_lambda\n",
    "  \n",
    "  #view plot of test MSE's vs. lambda values\n",
    "  \n",
    "  #view coefficients of best model\n",
    "  pca_lasso <- glmnet(PC, y_train, alpha = 1, lambda =best_lambda)\n",
    "  coef(pca_lasso)\n",
    "  summary(pca_lasso)\n",
    "  \n",
    "  #make a prediction for the response value of a new observation\n",
    "  yp=predict(pca_lasso, s = best_lambda, newx = PC_test)[1,1]\n",
    "  return(c(yp,y_test))\n",
    "  \n",
    "}\n",
    "\n",
    "pca_lasso_test2 <- function(i,data) {\n",
    "  j=i+83\n",
    "  k=i+84\n",
    "  y_train=data[i:j,\"y\"]\n",
    "  y_test=data[k,\"y\"]\n",
    "  x_train=data[i:j,] |> select(!c(\"month\",\"y\",\"PPI\"))\n",
    "  x_train_PPI=data[i:j,\"PPI\"] \n",
    "  x_test=data[k,] |> select(!c(\"month\",\"y\",\"PPI\"))\n",
    "  x_test_PPI=data[k,\"PPI\"]\n",
    "  \n",
    "  \n",
    "  #collect 8 Principal Components and train the lasso regression.\n",
    "  PC=predict(PCA,newdata = x_train)[,1:dim]\n",
    "  PCs=cbind(PC,x_train_PPI)\n",
    "  \n",
    "  #Calculate scores for testing\n",
    "  PC_test=predict(PCA,newdata = x_test)[,1:dim]\n",
    "  PC_test2=append(PC_test,x_test_PPI)\n",
    "  \n",
    "  #find lambda\n",
    "  cv_model <- cv.glmnet(PCs, y_train, alpha = 1,nfolds = 3)\n",
    "  best_lambda <- cv_model$lambda.min\n",
    "  \n",
    "  #display optimal lambda value\n",
    "  best_lambda\n",
    "  \n",
    "  #view coefficients of best model\n",
    "  \n",
    "  pca_lasso2 <- glmnet(PCs, y_train, alpha = 1, lambda =best_lambda)\n",
    "  coef(pca_lasso2)\n",
    "  summary(pca_lasso2)\n",
    "  \n",
    "  #make a prediction for the response value of a new observation\n",
    "  \n",
    "  yp=predict(pca_lasso2, s = best_lambda, newx = PC_test2)[1,1]\n",
    "  return(c(yp,y_test))\n",
    "  \n",
    "}\n",
    "\n",
    "\n",
    "rsquare_test <- function(yt,y_predicted) {\n",
    "  sst <- sum((yt - mean(yt))^2)\n",
    "  sse <- sum((y_predicted - yt)^2)\n",
    "  \n",
    "  rsq <- 1 - sse/sst\n",
    "  \n",
    "  return(rsq)\n",
    "}\n",
    "\n",
    "\n",
    "#------------------------------\n",
    "\n",
    "rep_test1 <- function(data){\n",
    "  y_predicted=vector()\n",
    "  yt=vector()\n",
    "  \n",
    "## Rolling window test\n",
    "  for (x in 1:80) {\n",
    "    \n",
    "    results=pca_lasso_test(i = x,data)\n",
    "    y_test = results[2]\n",
    "    yp=results[1]\n",
    "    y_predicted = append(y_predicted,yp)\n",
    "    yt=append(yt,y_test)\n",
    "  }\n",
    "  rsquare_test(yt,y_predicted = y_predicted)\n",
    "  \n",
    "}\n",
    "\n",
    "rep_test2 <- function(data){\n",
    "  y_predicted=vector()\n",
    "  yt=vector()\n",
    "  \n",
    "  for (x in 1:80)  {\n",
    "    results=pca_lasso_test2(i=x,data)\n",
    "    y_test = results[2]\n",
    "    yp=results[1]\n",
    "    y_predicted = append(y_predicted,yp)\n",
    "    yt=append(yt,y_test)\n",
    "  }\n",
    "  rsquare_test(yt,y_predicted = y_predicted)\n",
    "  \n",
    "}\n",
    "\n",
    "\n",
    "#---------------------Run test---------------------#\n",
    "\n",
    "#------------------test 1----------------#\n",
    "runtest <- function(){\n",
    "  rsqv=c()\n",
    "  for (t in 1:n) {\n",
    "    \n",
    "    rsqv=append(rsqv,rep_test1(data_1))\n",
    "    \n",
    "  }\n",
    "  rPPI_1_1 <- rsqv\n",
    "  \n",
    "  #------------------test 2----------------#\n",
    "  #Lag=2,method=1\n",
    "  \n",
    "  rsqv=c()\n",
    "  for (t in 1:n){\n",
    "    \n",
    "    rsqv=append(rsqv,rep_test1(data_2))\n",
    "    \n",
    "  }\n",
    "  rPPI_1_2 <- rsqv\n",
    "  \n",
    "  \n",
    "  \n",
    "  #------------------test 3----------------#\n",
    "  #Lag=3,method=1\n",
    "  \n",
    "  rsqv=c()\n",
    "  for (t in 1:n){\n",
    "    \n",
    "    rsqv=append(rsqv,rep_test1(data_3))\n",
    "    \n",
    "  }\n",
    "  rPPI_1_3 <- rsqv\n",
    "  \n",
    "  #------------------test 4----------------#\n",
    "  #Lag=1,method=2\n",
    "  \n",
    "  rsqv=c()\n",
    "  for (t in 1:n){\n",
    "    \n",
    "    rsqv=append(rsqv,rep_test2(data_1))\n",
    "    \n",
    "  }\n",
    "  \n",
    "  rPPI_2_1 <- rsqv\n",
    "  \n",
    "  #------------------test 5----------------#\n",
    "  #Lag=2,method=2\n",
    "  \n",
    "  rsqv=c()\n",
    "  for (t in 1:n){\n",
    "    \n",
    "    rsqv=append(rsqv,rep_test2(data_2))\n",
    "    \n",
    "  }\n",
    "  rPPI_2_2 <- rsqv\n",
    "  \n",
    "  \n",
    "  \n",
    "  #------------------test 6----------------#\n",
    "  #Lag=3,method=2\n",
    "  \n",
    "  rsqv=c()\n",
    "  for (t in 1:n){\n",
    "    \n",
    "    rsqv=append(rsqv,rep_test2(data_3))\n",
    "    \n",
    "  }\n",
    "  rPPI_2_3 <- rsqv\n",
    "  \n",
    "  results <- matrix(data=c(mean(rPPI_1_1),mean(rPPI_1_2),mean(rPPI_1_3),\n",
    "                           mean(rPPI_2_1),mean(rPPI_2_2),mean(rPPI_2_3),\n",
    "                           sd(rPPI_1_1),sd(rPPI_1_2),sd(rPPI_1_3),\n",
    "                           sd(rPPI_2_1),sd(rPPI_2_2),sd(rPPI_2_3)),\n",
    "                    nrow = 2,ncol = 6,byrow = T)\n",
    "  \n",
    "  print(\"Results:\")\n",
    "  cat(\"mean: \\t\",mean(rPPI_1_1),\"\\t\",mean(rPPI_1_2),\"\\t\",mean(rPPI_1_3),\"\\t\",mean(rPPI_2_1),\n",
    "      \"\\t\",mean(rPPI_2_2),\"\\t\",mean(rPPI_2_3),\"\\n\")\n",
    "  cat(\"stdev: \\t\",sd(rPPI_1_1),\"\\t\",sd(rPPI_1_2),\"\\t\",sd(rPPI_1_3),\"\\t\",sd(rPPI_2_1),\"\\t\",sd(rPPI_2_2),\n",
    "      \"\\t\",sd(rPPI_2_3),\"\\n\")\n",
    "  \n",
    "  return(results)\n",
    "}    \n",
    "\n",
    "\n",
    "\n",
    "##-----------------------------------------------------##\n",
    "dim=8\n",
    "res_1 <-runtest()[1,]\n",
    "dim=9\n",
    "res_2 <-runtest()[1,]\n",
    "dim=10\n",
    "res_3 <-runtest()[1,]\n",
    "\n",
    "res=rbind(res_1,res_2,res_3)\n",
    "res2=t(res)\n",
    "\n",
    "pl=data.frame(res2)\n",
    "index=1:6\n",
    "pl=cbind(pl,index)\n",
    "\n",
    "ed=Sys.time()\n",
    "dr=ed-st\n",
    "\n",
    "cat(\"Total duration: \")\n",
    "dr\n"
   ]
  },
  {
   "cell_type": "code",
   "execution_count": 19,
   "id": "2a37239e-82da-4551-9ede-4d65b71c37b6",
   "metadata": {
    "vscode": {
     "languageId": "r"
    }
   },
   "outputs": [
    {
     "data": {
      "text/html": [
       "<table class=\"dataframe\">\n",
       "<caption>A data.frame: 6 × 4</caption>\n",
       "<thead>\n",
       "\t<tr><th scope=col>res_1</th><th scope=col>res_2</th><th scope=col>res_3</th><th scope=col>index</th></tr>\n",
       "\t<tr><th scope=col>&lt;dbl&gt;</th><th scope=col>&lt;dbl&gt;</th><th scope=col>&lt;dbl&gt;</th><th scope=col>&lt;int&gt;</th></tr>\n",
       "</thead>\n",
       "<tbody>\n",
       "\t<tr><td>0.8469282</td><td>0.8443679</td><td>0.8480810</td><td>1</td></tr>\n",
       "\t<tr><td>0.8375837</td><td>0.8275112</td><td>0.8255054</td><td>2</td></tr>\n",
       "\t<tr><td>0.8123360</td><td>0.7936187</td><td>0.7988572</td><td>3</td></tr>\n",
       "\t<tr><td>0.9778174</td><td>0.9776933</td><td>0.9766742</td><td>4</td></tr>\n",
       "\t<tr><td>0.9308155</td><td>0.9296869</td><td>0.9337043</td><td>5</td></tr>\n",
       "\t<tr><td>0.8833201</td><td>0.8766476</td><td>0.8835255</td><td>6</td></tr>\n",
       "</tbody>\n",
       "</table>\n"
      ],
      "text/latex": [
       "A data.frame: 6 × 4\n",
       "\\begin{tabular}{llll}\n",
       " res\\_1 & res\\_2 & res\\_3 & index\\\\\n",
       " <dbl> & <dbl> & <dbl> & <int>\\\\\n",
       "\\hline\n",
       "\t 0.8469282 & 0.8443679 & 0.8480810 & 1\\\\\n",
       "\t 0.8375837 & 0.8275112 & 0.8255054 & 2\\\\\n",
       "\t 0.8123360 & 0.7936187 & 0.7988572 & 3\\\\\n",
       "\t 0.9778174 & 0.9776933 & 0.9766742 & 4\\\\\n",
       "\t 0.9308155 & 0.9296869 & 0.9337043 & 5\\\\\n",
       "\t 0.8833201 & 0.8766476 & 0.8835255 & 6\\\\\n",
       "\\end{tabular}\n"
      ],
      "text/markdown": [
       "\n",
       "A data.frame: 6 × 4\n",
       "\n",
       "| res_1 &lt;dbl&gt; | res_2 &lt;dbl&gt; | res_3 &lt;dbl&gt; | index &lt;int&gt; |\n",
       "|---|---|---|---|\n",
       "| 0.8469282 | 0.8443679 | 0.8480810 | 1 |\n",
       "| 0.8375837 | 0.8275112 | 0.8255054 | 2 |\n",
       "| 0.8123360 | 0.7936187 | 0.7988572 | 3 |\n",
       "| 0.9778174 | 0.9776933 | 0.9766742 | 4 |\n",
       "| 0.9308155 | 0.9296869 | 0.9337043 | 5 |\n",
       "| 0.8833201 | 0.8766476 | 0.8835255 | 6 |\n",
       "\n"
      ],
      "text/plain": [
       "  res_1     res_2     res_3     index\n",
       "1 0.8469282 0.8443679 0.8480810 1    \n",
       "2 0.8375837 0.8275112 0.8255054 2    \n",
       "3 0.8123360 0.7936187 0.7988572 3    \n",
       "4 0.9778174 0.9776933 0.9766742 4    \n",
       "5 0.9308155 0.9296869 0.9337043 5    \n",
       "6 0.8833201 0.8766476 0.8835255 6    "
      ]
     },
     "metadata": {},
     "output_type": "display_data"
    }
   ],
   "source": [
    "pl"
   ]
  },
  {
   "cell_type": "markdown",
   "id": "55424a32-1e6f-42e7-843e-b453e665357f",
   "metadata": {},
   "source": [
    "From the 3 results we know, Rsquare of index 4-5-6 are higher than Rsquare of index 1-2-3, which means the model where the lagged variable (PPI) is isolated as an explanatory variable performs superior to the model where it is incorporated directly in the Principal Component Analysis (PCA) dimension reduction. \n",
    "\n",
    "Isolating PPI before applying PCA can enhance the predictive capability of the model.\n",
    "\n",
    "Following this approach, which involves training a model using PPI and then using the predicted PPI to estimate inflation rates, the final calculation of inflation proved more effective.\n",
    "\n",
    "From the output, lag=1(Lag=1),method=2(method=2) and dimension=8 are the best parameters, by find its Rsquare 0.9778174 is the best."
   ]
  },
  {
   "cell_type": "markdown",
   "id": "94ecb585-4e9a-4f97-a3fe-faf79c7cdc3d",
   "metadata": {},
   "source": [
    "$$\\normalsize\\textbf{Final Model} $$\n",
    "\n"
   ]
  },
  {
   "cell_type": "markdown",
   "id": "ef883e35-9e80-4eab-ac8f-41f4b76d2350",
   "metadata": {},
   "source": [
    "$$\\normalsize\\text{The best model for PPI:\"Lag=1, with PPI as independent variable, dim =8, window size = 84} $$\n"
   ]
  },
  {
   "cell_type": "code",
   "execution_count": 20,
   "id": "23460e3a-b4a1-40aa-8872-bfbff9ee9e4c",
   "metadata": {
    "vscode": {
     "languageId": "r"
    }
   },
   "outputs": [
    {
     "name": "stdout",
     "output_type": "stream",
     "text": [
      "[1] \"The R-Square of PPI:\"\n",
      "The R-square is: 0.9051203 \n"
     ]
    },
    {
     "data": {
      "text/html": [
       "0.905120332066768"
      ],
      "text/latex": [
       "0.905120332066768"
      ],
      "text/markdown": [
       "0.905120332066768"
      ],
      "text/plain": [
       "[1] 0.9051203"
      ]
     },
     "metadata": {},
     "output_type": "display_data"
    },
    {
     "name": "stdout",
     "output_type": "stream",
     "text": [
      "[1] \"The R-Square of inflation rate:\"\n",
      "The R-square is: 0.9849115 \n"
     ]
    },
    {
     "data": {
      "text/html": [
       "0.984911504553917"
      ],
      "text/latex": [
       "0.984911504553917"
      ],
      "text/markdown": [
       "0.984911504553917"
      ],
      "text/plain": [
       "[1] 0.9849115"
      ]
     },
     "metadata": {},
     "output_type": "display_data"
    }
   ],
   "source": [
    "#Final model for PPI:\n",
    "#The best model for PPI:\"Lag=1, with PPI as independent variable, dim = 8, window size = 84\"\n",
    "\n",
    "#Perequisite\n",
    "suppressPackageStartupMessages(library(tidyverse))\n",
    "suppressPackageStartupMessages(library(glmnet))\n",
    "suppressPackageStartupMessages(library(doParallel))\n",
    "registerDoParallel(detectCores()-1)\n",
    "set.seed(10)\n",
    "\n",
    "dim=8\n",
    "windowlength=84\n",
    "\n",
    "load(url(\"https://github.com/zhentaoshi/Econ5821/raw/main/data_example/dataset_inf.Rdata\"))\n",
    "load(url(\"https://github.com/zhentaoshi/Econ5821/raw/main/data_example/data_oos.Rdata\"))\n",
    "\n",
    "\n",
    "#Lag=1 data:\n",
    "data_1=rbind(X,real.X)\n",
    "data_1=merge(rbind(ppi,real.ppi),data_1,by=\"month\",all = T)\n",
    "data_1=data_1 |> mutate(y=lead(PPI))\n",
    "\n",
    "#Train the PCA model\n",
    "pca_data=X |> select(!c(\"month\"))\n",
    "PCA=princomp(pca_data)\n",
    "\n",
    "##------------------------------#Functions:---------------------------##\n",
    "\n",
    "pca_lasso_test2 <- function(i,data) {\n",
    "  a=windowlength-1\n",
    "  b=windowlength\n",
    "  \n",
    "  j=i+a\n",
    "  k=i+b\n",
    "  y_train=data[i:j,\"y\"]\n",
    "  y_test=data[k,\"y\"]\n",
    "  x_train=data[i:j,] |> select(!c(\"month\",\"y\",\"PPI\"))\n",
    "  x_train_ppi=data[i:j,\"PPI\"] \n",
    "  x_test=data[k,] |> select(!c(\"month\",\"y\",\"PPI\"))\n",
    "  x_test_ppi=data[k,\"PPI\"]\n",
    "  \n",
    "  \n",
    "  #collect Principal Components and train the lasso regression.\n",
    "  PC=predict(PCA,newdata = x_train)[,1:dim]\n",
    "  PCs=cbind(PC,x_train_ppi)\n",
    "  \n",
    "  #Calculate scores for testing\n",
    "  PC_test=predict(PCA,newdata = x_test)[,1:dim]\n",
    "  PC_test2=append(PC_test,x_test_ppi)\n",
    "  \n",
    "  #find lambda\n",
    "  cv_model <- cv.glmnet(PCs, y_train, alpha = 1,nfolds = 3)\n",
    "  best_lambda <- cv_model$lambda.min\n",
    "  \n",
    "  #display optimal lambda value\n",
    "  best_lambda\n",
    "  \n",
    "  #view coefficients of best model\n",
    "  \n",
    "  pca_lasso2 <- glmnet(PCs, y_train, alpha = 1, lambda =best_lambda)\n",
    "  coef(pca_lasso2)\n",
    "  summary(pca_lasso2)\n",
    "  \n",
    "  #make a prediction for the response value of a new observation\n",
    "  \n",
    "  yp=predict(pca_lasso2, s = best_lambda, newx = PC_test2)[1,1]\n",
    "  return(c((k+1),yp,y_test))\n",
    "  \n",
    "}\n",
    "\n",
    "\n",
    "rsquare_test <- function(yt,y_predicted) {\n",
    "  sst <- sum((yt - mean(yt))^2)\n",
    "  sse <- sum((y_predicted - yt)^2)\n",
    "  \n",
    "  rsq <- 1 - sse/sst\n",
    "  \n",
    "  cat(\"The R-square is:\",rsq,\"\\n\") \n",
    "  return(rsq)\n",
    "}\n",
    "\n",
    "rep_test2 <- function(data){\n",
    "\n",
    "    ## Rolling window test\n",
    "  result <-foreach (x = 1:113,.combine = \"rbind\") %dopar% {\n",
    "    pca_lasso_test2(i = x,data)\n",
    "  }\n",
    "  result=data.frame(result)\n",
    "  colnames(result) <- c(\"month\",\"PPI_predicted\",\"PPI_true\")\n",
    "  return(result)\n",
    "  \n",
    "}\n",
    "\n",
    "result <- rep_test2(data_1)\n",
    "yp=result[result$month %in% 169:198,]$PPI_predicted\n",
    "yt=result[result$month %in% 169:198,]$PPI_true\n",
    "\n",
    "#R-Square of price prediction\n",
    "print(\"The R-Square of PPI:\")\n",
    "rsquare_test(yt,yp)\n",
    "\n",
    "result=result |> mutate(inflation_predicted=log(PPI_predicted)-log(lag(PPI_true,n=12)),\n",
    "                        inflation_true=log(PPI_true)-log(lag(PPI_true,n=12))\n",
    "                        )\n",
    "result2=result |> filter(is.na(inflation_predicted)==F)\n",
    "\n",
    "\n",
    "inf_p=result2[result2$month %in% 169:198,]$inflation_predicted\n",
    "inf_t=result2[result2$month %in% 169:198,]$inflation_true\n",
    "\n",
    "#R-Square of inflation\n",
    "print(\"The R-Square of inflation rate:\")\n",
    "rsquare_test(inf_t,inf_p)\n",
    "\n",
    "###Result2 is the final answer\n",
    "resultPPI=result2[result2$month %in% 169:198,]"
   ]
  },
  {
   "cell_type": "markdown",
   "id": "64729d3b-c347-4d24-9b97-630bc068937e",
   "metadata": {},
   "source": [
    "The first R-squared value refers to the R-squared of the PPI (Producer Price Index) prediction. It is 0.9051203 , which suggests that about 90.51% of the variability in future PPI values can be explained by our model.\n",
    "\n",
    "The second R-squared value refers to the R-squared of the inflation prediction. It is 0.9849115, which suggests that about 98.45% of the variability in future inflation rate values can be explained by our model.\n",
    "\n",
    "Note: each time we run the file, the results will be slightly different."
   ]
  },
  {
   "cell_type": "markdown",
   "id": "8484fa49-a6cd-4db8-8a85-eb6796879e68",
   "metadata": {},
   "source": [
    "$$\\Large\\textbf{V) Results} $$"
   ]
  },
  {
   "cell_type": "markdown",
   "id": "ccbb82cf-2a75-4c1a-9176-cb8d6d58e734",
   "metadata": {},
   "source": [
    "The best model for CPI:\"Lag=1, with CPI as independent variable, dim = 8, window size = 60 The best model for PPI:\"Lag=1, with PPI as independent variable, dim = 8, window size =84\n",
    "\n",
    "Interestingly, we observed that both models shared the exact same optimal parameters of PCA dimensions and Lag. This consistency across two distinct economic indices - CPI and PPI - speaks to the robustness of our modeling approach. And it also suggests that both CPI and PPI share similar dynamic characteristics in their relationship with the predictor variables in our data set.\n",
    "\n",
    "With both CPI and PPI having the best model performance at lag=1, this indicates that the previous month's data is most predictive of the current month for both indices. This means the short-term past, i.e., the immediate previous period, is significant in predicting both CPI and PPI.\n",
    "\n",
    "With dimension=8 being optimal for both, this suggests that the same level of complexity (in terms of number of principal components in PCA) is suitable for capturing the major variations in both datasets.\n",
    "\n",
    "The optimal window size=60 suggests that using the past 60 periods of data provides the most useful information for predicting the next period for CPI. And the window size of the Producer Price Index (PPI) is larger than that of the Consumer Price Index (CPI), this would imply that the PPI is more influenced by historical data than the CPI.\n",
    "\n"
   ]
  },
  {
   "cell_type": "markdown",
   "id": "592fc30e-371c-4719-b113-8be07e6f5123",
   "metadata": {},
   "source": [
    "CPI final results:"
   ]
  },
  {
   "cell_type": "code",
   "execution_count": 25,
   "id": "5339624c-2d15-4a53-9718-be697547f0e0",
   "metadata": {},
   "outputs": [
    {
     "data": {
      "text/html": [
       "<table class=\"dataframe\">\n",
       "<caption>A data.frame: 125 × 5</caption>\n",
       "<thead>\n",
       "\t<tr><th></th><th scope=col>month</th><th scope=col>CPI_predicted</th><th scope=col>CPI_true</th><th scope=col>inflation_predicted</th><th scope=col>inflation_true</th></tr>\n",
       "\t<tr><th></th><th scope=col>&lt;dbl&gt;</th><th scope=col>&lt;dbl&gt;</th><th scope=col>&lt;dbl&gt;</th><th scope=col>&lt;dbl&gt;</th><th scope=col>&lt;dbl&gt;</th></tr>\n",
       "</thead>\n",
       "<tbody>\n",
       "\t<tr><th scope=row>result.13</th><td> 74</td><td>100.44327</td><td> 98.40</td><td>-0.0789987098</td><td>-0.099550990</td></tr>\n",
       "\t<tr><th scope=row>result.14</th><td> 75</td><td> 97.61108</td><td> 98.80</td><td>-0.1039141579</td><td>-0.091807549</td></tr>\n",
       "\t<tr><th scope=row>result.15</th><td> 76</td><td> 98.58029</td><td> 98.50</td><td>-0.0958788508</td><td>-0.096693625</td></tr>\n",
       "\t<tr><th scope=row>result.16</th><td> 77</td><td> 98.53969</td><td> 98.60</td><td>-0.0888901327</td><td>-0.088278323</td></tr>\n",
       "\t<tr><th scope=row>result.17</th><td> 78</td><td> 98.53238</td><td> 98.30</td><td>-0.0833777150</td><td>-0.085738950</td></tr>\n",
       "\t<tr><th scope=row>result.18</th><td> 79</td><td> 98.50657</td><td> 98.20</td><td>-0.0761420557</td><td>-0.079259070</td></tr>\n",
       "\t<tr><th scope=row>result.19</th><td> 80</td><td> 98.43602</td><td> 98.80</td><td>-0.0636007368</td><td>-0.059909911</td></tr>\n",
       "\t<tr><th scope=row>result.20</th><td> 81</td><td> 98.95939</td><td> 99.20</td><td>-0.0554339811</td><td>-0.053005537</td></tr>\n",
       "\t<tr><th scope=row>result.21</th><td> 82</td><td> 99.38634</td><td> 99.50</td><td>-0.0453761823</td><td>-0.044233255</td></tr>\n",
       "\t<tr><th scope=row>result.22</th><td> 83</td><td> 99.94958</td><td>100.60</td><td>-0.0242208444</td><td>-0.017734455</td></tr>\n",
       "\t<tr><th scope=row>result.23</th><td> 84</td><td>101.22962</td><td>101.90</td><td> 0.0002926122</td><td> 0.006893183</td></tr>\n",
       "\t<tr><th scope=row>result.24</th><td> 85</td><td>102.58388</td><td>101.53</td><td> 0.0155603330</td><td> 0.005233804</td></tr>\n",
       "\t<tr><th scope=row>result.25</th><td> 86</td><td>102.57635</td><td>102.70</td><td> 0.0415665740</td><td> 0.042771313</td></tr>\n",
       "\t<tr><th scope=row>result.26</th><td> 87</td><td>102.80588</td><td>102.37</td><td> 0.0397449462</td><td> 0.035496096</td></tr>\n",
       "\t<tr><th scope=row>result.27</th><td> 88</td><td>102.80680</td><td>102.81</td><td> 0.0427949279</td><td> 0.042826076</td></tr>\n",
       "\t<tr><th scope=row>result.28</th><td> 89</td><td>102.88508</td><td>103.06</td><td> 0.0425414162</td><td> 0.044240081</td></tr>\n",
       "\t<tr><th scope=row>result.29</th><td> 90</td><td>103.08915</td><td>102.95</td><td> 0.0475700947</td><td> 0.046219406</td></tr>\n",
       "\t<tr><th scope=row>result.30</th><td> 91</td><td>102.47413</td><td>103.30</td><td> 0.0426041597</td><td> 0.050631161</td></tr>\n",
       "\t<tr><th scope=row>result.31</th><td> 92</td><td>102.77550</td><td>103.48</td><td> 0.0394494409</td><td> 0.046280753</td></tr>\n",
       "\t<tr><th scope=row>result.32</th><td> 93</td><td>103.34946</td><td>103.61</td><td> 0.0409780494</td><td> 0.043495836</td></tr>\n",
       "\t<tr><th scope=row>result.33</th><td> 94</td><td>103.46397</td><td>104.37</td><td> 0.0390658156</td><td> 0.047784634</td></tr>\n",
       "\t<tr><th scope=row>result.34</th><td> 95</td><td>104.34128</td><td>105.12</td><td> 0.0365148352</td><td> 0.043950297</td></tr>\n",
       "\t<tr><th scope=row>result.35</th><td> 96</td><td>105.15958</td><td>104.59</td><td> 0.0314870526</td><td> 0.026056005</td></tr>\n",
       "\t<tr><th scope=row>result.36</th><td> 97</td><td>104.32830</td><td>104.90</td><td> 0.0271883631</td><td> 0.032653194</td></tr>\n",
       "\t<tr><th scope=row>result.37</th><td> 98</td><td>104.50940</td><td>104.90</td><td> 0.0174648783</td><td> 0.021195398</td></tr>\n",
       "\t<tr><th scope=row>result.38</th><td> 99</td><td>104.56499</td><td>105.40</td><td> 0.0212150690</td><td> 0.029168935</td></tr>\n",
       "\t<tr><th scope=row>result.39</th><td>100</td><td>105.20749</td><td>105.30</td><td> 0.0230518597</td><td> 0.023930795</td></tr>\n",
       "\t<tr><th scope=row>result.40</th><td>101</td><td>104.99133</td><td>105.50</td><td> 0.0185664553</td><td> 0.023399610</td></tr>\n",
       "\t<tr><th scope=row>result.41</th><td>102</td><td>105.30458</td><td>106.40</td><td> 0.0226134897</td><td> 0.032962143</td></tr>\n",
       "\t<tr><th scope=row>result.42</th><td>103</td><td>106.24318</td><td>106.50</td><td> 0.0280932600</td><td> 0.030507609</td></tr>\n",
       "\t<tr><th scope=row>⋮</th><td>⋮</td><td>⋮</td><td>⋮</td><td>⋮</td><td>⋮</td></tr>\n",
       "\t<tr><th scope=row>result.108</th><td>169</td><td>102.2674</td><td>102.55</td><td> 0.0050724040</td><td> 7.831660e-03</td></tr>\n",
       "\t<tr><th scope=row>result.109</th><td>170</td><td>102.4045</td><td>100.80</td><td> 0.0012164911</td><td>-1.457579e-02</td></tr>\n",
       "\t<tr><th scope=row>result.110</th><td>171</td><td>101.3759</td><td>100.92</td><td>-0.0090738337</td><td>-1.358155e-02</td></tr>\n",
       "\t<tr><th scope=row>result.111</th><td>172</td><td>101.3424</td><td>101.17</td><td>-0.0096979557</td><td>-1.140061e-02</td></tr>\n",
       "\t<tr><th scope=row>result.112</th><td>173</td><td>101.5795</td><td>101.52</td><td>-0.0045232020</td><td>-5.109070e-03</td></tr>\n",
       "\t<tr><th scope=row>result.113</th><td>174</td><td>101.6604</td><td>101.50</td><td>-0.0021579891</td><td>-3.736852e-03</td></tr>\n",
       "\t<tr><th scope=row>result.114</th><td>175</td><td>101.7337</td><td>101.41</td><td>-0.0003571980</td><td>-3.543660e-03</td></tr>\n",
       "\t<tr><th scope=row>result.115</th><td>176</td><td>101.6118</td><td>101.77</td><td> 0.0026783190</td><td> 4.234165e-03</td></tr>\n",
       "\t<tr><th scope=row>result.116</th><td>177</td><td>101.8766</td><td>101.63</td><td>-0.0004254351</td><td>-2.849425e-03</td></tr>\n",
       "\t<tr><th scope=row>result.117</th><td>178</td><td>101.8000</td><td>101.87</td><td>-0.0029429493</td><td>-2.255235e-03</td></tr>\n",
       "\t<tr><th scope=row>result.118</th><td>179</td><td>101.8764</td><td>101.73</td><td>-0.0036605228</td><td>-5.098550e-03</td></tr>\n",
       "\t<tr><th scope=row>result.119</th><td>180</td><td>101.8056</td><td>101.85</td><td>-0.0026921017</td><td>-2.255677e-03</td></tr>\n",
       "\t<tr><th scope=row>result.120</th><td>181</td><td>101.8655</td><td>101.47</td><td>-0.0066976544</td><td>-1.058730e-02</td></tr>\n",
       "\t<tr><th scope=row>result.121</th><td>182</td><td>101.6688</td><td>102.90</td><td> 0.0085819862</td><td> 2.061929e-02</td></tr>\n",
       "\t<tr><th scope=row>result.122</th><td>183</td><td>102.3402</td><td>102.06</td><td> 0.0139742862</td><td> 1.123275e-02</td></tr>\n",
       "\t<tr><th scope=row>result.123</th><td>184</td><td>101.9747</td><td>101.80</td><td> 0.0079227690</td><td> 6.207834e-03</td></tr>\n",
       "\t<tr><th scope=row>result.124</th><td>185</td><td>101.8198</td><td>101.75</td><td> 0.0029484018</td><td> 2.263001e-03</td></tr>\n",
       "\t<tr><th scope=row>result.125</th><td>186</td><td>101.6853</td><td>101.85</td><td> 0.0018236582</td><td> 3.442344e-03</td></tr>\n",
       "\t<tr><th scope=row>result.126</th><td>187</td><td>101.7991</td><td>102.06</td><td> 0.0038298395</td><td> 6.389170e-03</td></tr>\n",
       "\t<tr><th scope=row>result.127</th><td>188</td><td>101.9539</td><td>102.30</td><td> 0.0018051619</td><td> 5.194308e-03</td></tr>\n",
       "\t<tr><th scope=row>result.128</th><td>189</td><td>102.0867</td><td>102.47</td><td> 0.0044836083</td><td> 8.231306e-03</td></tr>\n",
       "\t<tr><th scope=row>result.129</th><td>190</td><td>102.1545</td><td>102.54</td><td> 0.0027893014</td><td> 6.555476e-03</td></tr>\n",
       "\t<tr><th scope=row>result.130</th><td>191</td><td>102.1331</td><td>102.18</td><td> 0.0039549537</td><td> 4.413719e-03</td></tr>\n",
       "\t<tr><th scope=row>result.131</th><td>192</td><td>101.9612</td><td>101.86</td><td> 0.0010915157</td><td> 9.817878e-05</td></tr>\n",
       "\t<tr><th scope=row>result.132</th><td>193</td><td>101.7966</td><td>101.74</td><td> 0.0032137808</td><td> 2.657351e-03</td></tr>\n",
       "\t<tr><th scope=row>result.133</th><td>194</td><td>101.7211</td><td>101.49</td><td>-0.0115228907</td><td>-1.379737e-02</td></tr>\n",
       "\t<tr><th scope=row>result.134</th><td>195</td><td>101.6233</td><td>102.28</td><td>-0.0042878082</td><td> 2.153275e-03</td></tr>\n",
       "\t<tr><th scope=row>result.135</th><td>196</td><td>101.9357</td><td>102.54</td><td> 0.0013325846</td><td> 7.242862e-03</td></tr>\n",
       "\t<tr><th scope=row>result.136</th><td>197</td><td>102.0901</td><td>102.74</td><td> 0.0033372160</td><td> 9.682701e-03</td></tr>\n",
       "\t<tr><th scope=row>result.137</th><td>198</td><td>102.3354</td><td>102.68</td><td> 0.0047543060</td><td> 8.116213e-03</td></tr>\n",
       "</tbody>\n",
       "</table>\n"
      ],
      "text/latex": [
       "A data.frame: 125 × 5\n",
       "\\begin{tabular}{r|lllll}\n",
       "  & month & CPI\\_predicted & CPI\\_true & inflation\\_predicted & inflation\\_true\\\\\n",
       "  & <dbl> & <dbl> & <dbl> & <dbl> & <dbl>\\\\\n",
       "\\hline\n",
       "\tresult.13 &  74 & 100.44327 &  98.40 & -0.0789987098 & -0.099550990\\\\\n",
       "\tresult.14 &  75 &  97.61108 &  98.80 & -0.1039141579 & -0.091807549\\\\\n",
       "\tresult.15 &  76 &  98.58029 &  98.50 & -0.0958788508 & -0.096693625\\\\\n",
       "\tresult.16 &  77 &  98.53969 &  98.60 & -0.0888901327 & -0.088278323\\\\\n",
       "\tresult.17 &  78 &  98.53238 &  98.30 & -0.0833777150 & -0.085738950\\\\\n",
       "\tresult.18 &  79 &  98.50657 &  98.20 & -0.0761420557 & -0.079259070\\\\\n",
       "\tresult.19 &  80 &  98.43602 &  98.80 & -0.0636007368 & -0.059909911\\\\\n",
       "\tresult.20 &  81 &  98.95939 &  99.20 & -0.0554339811 & -0.053005537\\\\\n",
       "\tresult.21 &  82 &  99.38634 &  99.50 & -0.0453761823 & -0.044233255\\\\\n",
       "\tresult.22 &  83 &  99.94958 & 100.60 & -0.0242208444 & -0.017734455\\\\\n",
       "\tresult.23 &  84 & 101.22962 & 101.90 &  0.0002926122 &  0.006893183\\\\\n",
       "\tresult.24 &  85 & 102.58388 & 101.53 &  0.0155603330 &  0.005233804\\\\\n",
       "\tresult.25 &  86 & 102.57635 & 102.70 &  0.0415665740 &  0.042771313\\\\\n",
       "\tresult.26 &  87 & 102.80588 & 102.37 &  0.0397449462 &  0.035496096\\\\\n",
       "\tresult.27 &  88 & 102.80680 & 102.81 &  0.0427949279 &  0.042826076\\\\\n",
       "\tresult.28 &  89 & 102.88508 & 103.06 &  0.0425414162 &  0.044240081\\\\\n",
       "\tresult.29 &  90 & 103.08915 & 102.95 &  0.0475700947 &  0.046219406\\\\\n",
       "\tresult.30 &  91 & 102.47413 & 103.30 &  0.0426041597 &  0.050631161\\\\\n",
       "\tresult.31 &  92 & 102.77550 & 103.48 &  0.0394494409 &  0.046280753\\\\\n",
       "\tresult.32 &  93 & 103.34946 & 103.61 &  0.0409780494 &  0.043495836\\\\\n",
       "\tresult.33 &  94 & 103.46397 & 104.37 &  0.0390658156 &  0.047784634\\\\\n",
       "\tresult.34 &  95 & 104.34128 & 105.12 &  0.0365148352 &  0.043950297\\\\\n",
       "\tresult.35 &  96 & 105.15958 & 104.59 &  0.0314870526 &  0.026056005\\\\\n",
       "\tresult.36 &  97 & 104.32830 & 104.90 &  0.0271883631 &  0.032653194\\\\\n",
       "\tresult.37 &  98 & 104.50940 & 104.90 &  0.0174648783 &  0.021195398\\\\\n",
       "\tresult.38 &  99 & 104.56499 & 105.40 &  0.0212150690 &  0.029168935\\\\\n",
       "\tresult.39 & 100 & 105.20749 & 105.30 &  0.0230518597 &  0.023930795\\\\\n",
       "\tresult.40 & 101 & 104.99133 & 105.50 &  0.0185664553 &  0.023399610\\\\\n",
       "\tresult.41 & 102 & 105.30458 & 106.40 &  0.0226134897 &  0.032962143\\\\\n",
       "\tresult.42 & 103 & 106.24318 & 106.50 &  0.0280932600 &  0.030507609\\\\\n",
       "\t⋮ & ⋮ & ⋮ & ⋮ & ⋮ & ⋮\\\\\n",
       "\tresult.108 & 169 & 102.2674 & 102.55 &  0.0050724040 &  7.831660e-03\\\\\n",
       "\tresult.109 & 170 & 102.4045 & 100.80 &  0.0012164911 & -1.457579e-02\\\\\n",
       "\tresult.110 & 171 & 101.3759 & 100.92 & -0.0090738337 & -1.358155e-02\\\\\n",
       "\tresult.111 & 172 & 101.3424 & 101.17 & -0.0096979557 & -1.140061e-02\\\\\n",
       "\tresult.112 & 173 & 101.5795 & 101.52 & -0.0045232020 & -5.109070e-03\\\\\n",
       "\tresult.113 & 174 & 101.6604 & 101.50 & -0.0021579891 & -3.736852e-03\\\\\n",
       "\tresult.114 & 175 & 101.7337 & 101.41 & -0.0003571980 & -3.543660e-03\\\\\n",
       "\tresult.115 & 176 & 101.6118 & 101.77 &  0.0026783190 &  4.234165e-03\\\\\n",
       "\tresult.116 & 177 & 101.8766 & 101.63 & -0.0004254351 & -2.849425e-03\\\\\n",
       "\tresult.117 & 178 & 101.8000 & 101.87 & -0.0029429493 & -2.255235e-03\\\\\n",
       "\tresult.118 & 179 & 101.8764 & 101.73 & -0.0036605228 & -5.098550e-03\\\\\n",
       "\tresult.119 & 180 & 101.8056 & 101.85 & -0.0026921017 & -2.255677e-03\\\\\n",
       "\tresult.120 & 181 & 101.8655 & 101.47 & -0.0066976544 & -1.058730e-02\\\\\n",
       "\tresult.121 & 182 & 101.6688 & 102.90 &  0.0085819862 &  2.061929e-02\\\\\n",
       "\tresult.122 & 183 & 102.3402 & 102.06 &  0.0139742862 &  1.123275e-02\\\\\n",
       "\tresult.123 & 184 & 101.9747 & 101.80 &  0.0079227690 &  6.207834e-03\\\\\n",
       "\tresult.124 & 185 & 101.8198 & 101.75 &  0.0029484018 &  2.263001e-03\\\\\n",
       "\tresult.125 & 186 & 101.6853 & 101.85 &  0.0018236582 &  3.442344e-03\\\\\n",
       "\tresult.126 & 187 & 101.7991 & 102.06 &  0.0038298395 &  6.389170e-03\\\\\n",
       "\tresult.127 & 188 & 101.9539 & 102.30 &  0.0018051619 &  5.194308e-03\\\\\n",
       "\tresult.128 & 189 & 102.0867 & 102.47 &  0.0044836083 &  8.231306e-03\\\\\n",
       "\tresult.129 & 190 & 102.1545 & 102.54 &  0.0027893014 &  6.555476e-03\\\\\n",
       "\tresult.130 & 191 & 102.1331 & 102.18 &  0.0039549537 &  4.413719e-03\\\\\n",
       "\tresult.131 & 192 & 101.9612 & 101.86 &  0.0010915157 &  9.817878e-05\\\\\n",
       "\tresult.132 & 193 & 101.7966 & 101.74 &  0.0032137808 &  2.657351e-03\\\\\n",
       "\tresult.133 & 194 & 101.7211 & 101.49 & -0.0115228907 & -1.379737e-02\\\\\n",
       "\tresult.134 & 195 & 101.6233 & 102.28 & -0.0042878082 &  2.153275e-03\\\\\n",
       "\tresult.135 & 196 & 101.9357 & 102.54 &  0.0013325846 &  7.242862e-03\\\\\n",
       "\tresult.136 & 197 & 102.0901 & 102.74 &  0.0033372160 &  9.682701e-03\\\\\n",
       "\tresult.137 & 198 & 102.3354 & 102.68 &  0.0047543060 &  8.116213e-03\\\\\n",
       "\\end{tabular}\n"
      ],
      "text/markdown": [
       "\n",
       "A data.frame: 125 × 5\n",
       "\n",
       "| <!--/--> | month &lt;dbl&gt; | CPI_predicted &lt;dbl&gt; | CPI_true &lt;dbl&gt; | inflation_predicted &lt;dbl&gt; | inflation_true &lt;dbl&gt; |\n",
       "|---|---|---|---|---|---|\n",
       "| result.13 |  74 | 100.44327 |  98.40 | -0.0789987098 | -0.099550990 |\n",
       "| result.14 |  75 |  97.61108 |  98.80 | -0.1039141579 | -0.091807549 |\n",
       "| result.15 |  76 |  98.58029 |  98.50 | -0.0958788508 | -0.096693625 |\n",
       "| result.16 |  77 |  98.53969 |  98.60 | -0.0888901327 | -0.088278323 |\n",
       "| result.17 |  78 |  98.53238 |  98.30 | -0.0833777150 | -0.085738950 |\n",
       "| result.18 |  79 |  98.50657 |  98.20 | -0.0761420557 | -0.079259070 |\n",
       "| result.19 |  80 |  98.43602 |  98.80 | -0.0636007368 | -0.059909911 |\n",
       "| result.20 |  81 |  98.95939 |  99.20 | -0.0554339811 | -0.053005537 |\n",
       "| result.21 |  82 |  99.38634 |  99.50 | -0.0453761823 | -0.044233255 |\n",
       "| result.22 |  83 |  99.94958 | 100.60 | -0.0242208444 | -0.017734455 |\n",
       "| result.23 |  84 | 101.22962 | 101.90 |  0.0002926122 |  0.006893183 |\n",
       "| result.24 |  85 | 102.58388 | 101.53 |  0.0155603330 |  0.005233804 |\n",
       "| result.25 |  86 | 102.57635 | 102.70 |  0.0415665740 |  0.042771313 |\n",
       "| result.26 |  87 | 102.80588 | 102.37 |  0.0397449462 |  0.035496096 |\n",
       "| result.27 |  88 | 102.80680 | 102.81 |  0.0427949279 |  0.042826076 |\n",
       "| result.28 |  89 | 102.88508 | 103.06 |  0.0425414162 |  0.044240081 |\n",
       "| result.29 |  90 | 103.08915 | 102.95 |  0.0475700947 |  0.046219406 |\n",
       "| result.30 |  91 | 102.47413 | 103.30 |  0.0426041597 |  0.050631161 |\n",
       "| result.31 |  92 | 102.77550 | 103.48 |  0.0394494409 |  0.046280753 |\n",
       "| result.32 |  93 | 103.34946 | 103.61 |  0.0409780494 |  0.043495836 |\n",
       "| result.33 |  94 | 103.46397 | 104.37 |  0.0390658156 |  0.047784634 |\n",
       "| result.34 |  95 | 104.34128 | 105.12 |  0.0365148352 |  0.043950297 |\n",
       "| result.35 |  96 | 105.15958 | 104.59 |  0.0314870526 |  0.026056005 |\n",
       "| result.36 |  97 | 104.32830 | 104.90 |  0.0271883631 |  0.032653194 |\n",
       "| result.37 |  98 | 104.50940 | 104.90 |  0.0174648783 |  0.021195398 |\n",
       "| result.38 |  99 | 104.56499 | 105.40 |  0.0212150690 |  0.029168935 |\n",
       "| result.39 | 100 | 105.20749 | 105.30 |  0.0230518597 |  0.023930795 |\n",
       "| result.40 | 101 | 104.99133 | 105.50 |  0.0185664553 |  0.023399610 |\n",
       "| result.41 | 102 | 105.30458 | 106.40 |  0.0226134897 |  0.032962143 |\n",
       "| result.42 | 103 | 106.24318 | 106.50 |  0.0280932600 |  0.030507609 |\n",
       "| ⋮ | ⋮ | ⋮ | ⋮ | ⋮ | ⋮ |\n",
       "| result.108 | 169 | 102.2674 | 102.55 |  0.0050724040 |  7.831660e-03 |\n",
       "| result.109 | 170 | 102.4045 | 100.80 |  0.0012164911 | -1.457579e-02 |\n",
       "| result.110 | 171 | 101.3759 | 100.92 | -0.0090738337 | -1.358155e-02 |\n",
       "| result.111 | 172 | 101.3424 | 101.17 | -0.0096979557 | -1.140061e-02 |\n",
       "| result.112 | 173 | 101.5795 | 101.52 | -0.0045232020 | -5.109070e-03 |\n",
       "| result.113 | 174 | 101.6604 | 101.50 | -0.0021579891 | -3.736852e-03 |\n",
       "| result.114 | 175 | 101.7337 | 101.41 | -0.0003571980 | -3.543660e-03 |\n",
       "| result.115 | 176 | 101.6118 | 101.77 |  0.0026783190 |  4.234165e-03 |\n",
       "| result.116 | 177 | 101.8766 | 101.63 | -0.0004254351 | -2.849425e-03 |\n",
       "| result.117 | 178 | 101.8000 | 101.87 | -0.0029429493 | -2.255235e-03 |\n",
       "| result.118 | 179 | 101.8764 | 101.73 | -0.0036605228 | -5.098550e-03 |\n",
       "| result.119 | 180 | 101.8056 | 101.85 | -0.0026921017 | -2.255677e-03 |\n",
       "| result.120 | 181 | 101.8655 | 101.47 | -0.0066976544 | -1.058730e-02 |\n",
       "| result.121 | 182 | 101.6688 | 102.90 |  0.0085819862 |  2.061929e-02 |\n",
       "| result.122 | 183 | 102.3402 | 102.06 |  0.0139742862 |  1.123275e-02 |\n",
       "| result.123 | 184 | 101.9747 | 101.80 |  0.0079227690 |  6.207834e-03 |\n",
       "| result.124 | 185 | 101.8198 | 101.75 |  0.0029484018 |  2.263001e-03 |\n",
       "| result.125 | 186 | 101.6853 | 101.85 |  0.0018236582 |  3.442344e-03 |\n",
       "| result.126 | 187 | 101.7991 | 102.06 |  0.0038298395 |  6.389170e-03 |\n",
       "| result.127 | 188 | 101.9539 | 102.30 |  0.0018051619 |  5.194308e-03 |\n",
       "| result.128 | 189 | 102.0867 | 102.47 |  0.0044836083 |  8.231306e-03 |\n",
       "| result.129 | 190 | 102.1545 | 102.54 |  0.0027893014 |  6.555476e-03 |\n",
       "| result.130 | 191 | 102.1331 | 102.18 |  0.0039549537 |  4.413719e-03 |\n",
       "| result.131 | 192 | 101.9612 | 101.86 |  0.0010915157 |  9.817878e-05 |\n",
       "| result.132 | 193 | 101.7966 | 101.74 |  0.0032137808 |  2.657351e-03 |\n",
       "| result.133 | 194 | 101.7211 | 101.49 | -0.0115228907 | -1.379737e-02 |\n",
       "| result.134 | 195 | 101.6233 | 102.28 | -0.0042878082 |  2.153275e-03 |\n",
       "| result.135 | 196 | 101.9357 | 102.54 |  0.0013325846 |  7.242862e-03 |\n",
       "| result.136 | 197 | 102.0901 | 102.74 |  0.0033372160 |  9.682701e-03 |\n",
       "| result.137 | 198 | 102.3354 | 102.68 |  0.0047543060 |  8.116213e-03 |\n",
       "\n"
      ],
      "text/plain": [
       "           month CPI_predicted CPI_true inflation_predicted inflation_true\n",
       "result.13   74   100.44327      98.40   -0.0789987098       -0.099550990  \n",
       "result.14   75    97.61108      98.80   -0.1039141579       -0.091807549  \n",
       "result.15   76    98.58029      98.50   -0.0958788508       -0.096693625  \n",
       "result.16   77    98.53969      98.60   -0.0888901327       -0.088278323  \n",
       "result.17   78    98.53238      98.30   -0.0833777150       -0.085738950  \n",
       "result.18   79    98.50657      98.20   -0.0761420557       -0.079259070  \n",
       "result.19   80    98.43602      98.80   -0.0636007368       -0.059909911  \n",
       "result.20   81    98.95939      99.20   -0.0554339811       -0.053005537  \n",
       "result.21   82    99.38634      99.50   -0.0453761823       -0.044233255  \n",
       "result.22   83    99.94958     100.60   -0.0242208444       -0.017734455  \n",
       "result.23   84   101.22962     101.90    0.0002926122        0.006893183  \n",
       "result.24   85   102.58388     101.53    0.0155603330        0.005233804  \n",
       "result.25   86   102.57635     102.70    0.0415665740        0.042771313  \n",
       "result.26   87   102.80588     102.37    0.0397449462        0.035496096  \n",
       "result.27   88   102.80680     102.81    0.0427949279        0.042826076  \n",
       "result.28   89   102.88508     103.06    0.0425414162        0.044240081  \n",
       "result.29   90   103.08915     102.95    0.0475700947        0.046219406  \n",
       "result.30   91   102.47413     103.30    0.0426041597        0.050631161  \n",
       "result.31   92   102.77550     103.48    0.0394494409        0.046280753  \n",
       "result.32   93   103.34946     103.61    0.0409780494        0.043495836  \n",
       "result.33   94   103.46397     104.37    0.0390658156        0.047784634  \n",
       "result.34   95   104.34128     105.12    0.0365148352        0.043950297  \n",
       "result.35   96   105.15958     104.59    0.0314870526        0.026056005  \n",
       "result.36   97   104.32830     104.90    0.0271883631        0.032653194  \n",
       "result.37   98   104.50940     104.90    0.0174648783        0.021195398  \n",
       "result.38   99   104.56499     105.40    0.0212150690        0.029168935  \n",
       "result.39  100   105.20749     105.30    0.0230518597        0.023930795  \n",
       "result.40  101   104.99133     105.50    0.0185664553        0.023399610  \n",
       "result.41  102   105.30458     106.40    0.0226134897        0.032962143  \n",
       "result.42  103   106.24318     106.50    0.0280932600        0.030507609  \n",
       "⋮          ⋮     ⋮             ⋮        ⋮                   ⋮             \n",
       "result.108 169   102.2674      102.55    0.0050724040        7.831660e-03 \n",
       "result.109 170   102.4045      100.80    0.0012164911       -1.457579e-02 \n",
       "result.110 171   101.3759      100.92   -0.0090738337       -1.358155e-02 \n",
       "result.111 172   101.3424      101.17   -0.0096979557       -1.140061e-02 \n",
       "result.112 173   101.5795      101.52   -0.0045232020       -5.109070e-03 \n",
       "result.113 174   101.6604      101.50   -0.0021579891       -3.736852e-03 \n",
       "result.114 175   101.7337      101.41   -0.0003571980       -3.543660e-03 \n",
       "result.115 176   101.6118      101.77    0.0026783190        4.234165e-03 \n",
       "result.116 177   101.8766      101.63   -0.0004254351       -2.849425e-03 \n",
       "result.117 178   101.8000      101.87   -0.0029429493       -2.255235e-03 \n",
       "result.118 179   101.8764      101.73   -0.0036605228       -5.098550e-03 \n",
       "result.119 180   101.8056      101.85   -0.0026921017       -2.255677e-03 \n",
       "result.120 181   101.8655      101.47   -0.0066976544       -1.058730e-02 \n",
       "result.121 182   101.6688      102.90    0.0085819862        2.061929e-02 \n",
       "result.122 183   102.3402      102.06    0.0139742862        1.123275e-02 \n",
       "result.123 184   101.9747      101.80    0.0079227690        6.207834e-03 \n",
       "result.124 185   101.8198      101.75    0.0029484018        2.263001e-03 \n",
       "result.125 186   101.6853      101.85    0.0018236582        3.442344e-03 \n",
       "result.126 187   101.7991      102.06    0.0038298395        6.389170e-03 \n",
       "result.127 188   101.9539      102.30    0.0018051619        5.194308e-03 \n",
       "result.128 189   102.0867      102.47    0.0044836083        8.231306e-03 \n",
       "result.129 190   102.1545      102.54    0.0027893014        6.555476e-03 \n",
       "result.130 191   102.1331      102.18    0.0039549537        4.413719e-03 \n",
       "result.131 192   101.9612      101.86    0.0010915157        9.817878e-05 \n",
       "result.132 193   101.7966      101.74    0.0032137808        2.657351e-03 \n",
       "result.133 194   101.7211      101.49   -0.0115228907       -1.379737e-02 \n",
       "result.134 195   101.6233      102.28   -0.0042878082        2.153275e-03 \n",
       "result.135 196   101.9357      102.54    0.0013325846        7.242862e-03 \n",
       "result.136 197   102.0901      102.74    0.0033372160        9.682701e-03 \n",
       "result.137 198   102.3354      102.68    0.0047543060        8.116213e-03 "
      ]
     },
     "metadata": {},
     "output_type": "display_data"
    }
   ],
   "source": [
    "resultCPI"
   ]
  },
  {
   "cell_type": "markdown",
   "id": "c13b494e-2662-4d01-a494-d2c83e178a25",
   "metadata": {},
   "source": [
    "PPI final results:"
   ]
  },
  {
   "cell_type": "code",
   "execution_count": 22,
   "id": "863215bb-7d83-463b-bf50-eeffa62d1048",
   "metadata": {},
   "outputs": [
    {
     "data": {
      "text/html": [
       "<table class=\"dataframe\">\n",
       "<caption>A data.frame: 30 × 5</caption>\n",
       "<thead>\n",
       "\t<tr><th></th><th scope=col>month</th><th scope=col>PPI_predicted</th><th scope=col>PPI_true</th><th scope=col>inflation_predicted</th><th scope=col>inflation_true</th></tr>\n",
       "\t<tr><th></th><th scope=col>&lt;dbl&gt;</th><th scope=col>&lt;dbl&gt;</th><th scope=col>&lt;dbl&gt;</th><th scope=col>&lt;dbl&gt;</th><th scope=col>&lt;dbl&gt;</th></tr>\n",
       "</thead>\n",
       "<tbody>\n",
       "\t<tr><th scope=row>result.84</th><td>169</td><td>104.94485</td><td>106.9</td><td> 0.1025097796</td><td> 0.120968647</td></tr>\n",
       "\t<tr><th scope=row>result.85</th><td>170</td><td>106.57538</td><td>107.8</td><td> 0.1139235499</td><td> 0.125348689</td></tr>\n",
       "\t<tr><th scope=row>result.86</th><td>171</td><td>107.79145</td><td>107.6</td><td> 0.1191890551</td><td> 0.117411358</td></tr>\n",
       "\t<tr><th scope=row>result.87</th><td>172</td><td>107.39421</td><td>106.4</td><td> 0.1057204915</td><td> 0.096419818</td></tr>\n",
       "\t<tr><th scope=row>result.88</th><td>173</td><td>106.03216</td><td>105.5</td><td> 0.0869717028</td><td> 0.081940241</td></tr>\n",
       "\t<tr><th scope=row>result.89</th><td>174</td><td>105.14156</td><td>105.5</td><td> 0.0764814086</td><td> 0.079884742</td></tr>\n",
       "\t<tr><th scope=row>result.90</th><td>175</td><td>105.19959</td><td>105.5</td><td> 0.0678353902</td><td> 0.070686926</td></tr>\n",
       "\t<tr><th scope=row>result.91</th><td>176</td><td>105.23903</td><td>106.3</td><td> 0.0590962685</td><td> 0.069127271</td></tr>\n",
       "\t<tr><th scope=row>result.92</th><td>177</td><td>106.22769</td><td>106.9</td><td> 0.0594151368</td><td> 0.065724132</td></tr>\n",
       "\t<tr><th scope=row>result.93</th><td>178</td><td>106.77504</td><td>106.9</td><td> 0.0536254163</td><td> 0.054795061</td></tr>\n",
       "\t<tr><th scope=row>result.94</th><td>179</td><td>106.78032</td><td>105.8</td><td> 0.0331362283</td><td> 0.023913143</td></tr>\n",
       "\t<tr><th scope=row>result.95</th><td>180</td><td>105.52128</td><td>104.9</td><td> 0.0002016662</td><td>-0.005703438</td></tr>\n",
       "\t<tr><th scope=row>result.96</th><td>181</td><td>104.75429</td><td>104.3</td><td>-0.0202762702</td><td>-0.024622456</td></tr>\n",
       "\t<tr><th scope=row>result.97</th><td>182</td><td>104.27967</td><td>103.7</td><td>-0.0332011977</td><td>-0.038775543</td></tr>\n",
       "\t<tr><th scope=row>result.98</th><td>183</td><td>103.29810</td><td>103.1</td><td>-0.0408016756</td><td>-0.042721257</td></tr>\n",
       "\t<tr><th scope=row>result.99</th><td>184</td><td>102.97056</td><td>103.4</td><td>-0.0327624302</td><td>-0.028600615</td></tr>\n",
       "\t<tr><th scope=row>result.100</th><td>185</td><td>103.50085</td><td>104.1</td><td>-0.0191311295</td><td>-0.013358977</td></tr>\n",
       "\t<tr><th scope=row>result.101</th><td>186</td><td>105.29741</td><td>104.7</td><td>-0.0019221716</td><td>-0.007611835</td></tr>\n",
       "\t<tr><th scope=row>result.102</th><td>187</td><td>105.32853</td><td>104.6</td><td>-0.0016266290</td><td>-0.008567401</td></tr>\n",
       "\t<tr><th scope=row>result.103</th><td>188</td><td>104.45466</td><td>104.1</td><td>-0.0175122120</td><td>-0.020913310</td></tr>\n",
       "\t<tr><th scope=row>result.104</th><td>189</td><td>103.82861</td><td>103.6</td><td>-0.0291522258</td><td>-0.031356488</td></tr>\n",
       "\t<tr><th scope=row>result.105</th><td>190</td><td>103.26663</td><td>103.3</td><td>-0.0345795583</td><td>-0.034256442</td></tr>\n",
       "\t<tr><th scope=row>result.106</th><td>191</td><td>103.10339</td><td>102.7</td><td>-0.0258182780</td><td>-0.029738402</td></tr>\n",
       "\t<tr><th scope=row>result.107</th><td>192</td><td>102.49748</td><td>100.9</td><td>-0.0231693320</td><td>-0.038877588</td></tr>\n",
       "\t<tr><th scope=row>result.108</th><td>193</td><td>100.65548</td><td>100.1</td><td>-0.0355678126</td><td>-0.041101676</td></tr>\n",
       "\t<tr><th scope=row>result.109</th><td>194</td><td> 99.81845</td><td>100.1</td><td>-0.0381491135</td><td>-0.035332429</td></tr>\n",
       "\t<tr><th scope=row>result.110</th><td>195</td><td>100.02387</td><td>100.4</td><td>-0.0302905404</td><td>-0.026537184</td></tr>\n",
       "\t<tr><th scope=row>result.111</th><td>196</td><td>100.09470</td><td>100.9</td><td>-0.0324882652</td><td>-0.024475035</td></tr>\n",
       "\t<tr><th scope=row>result.112</th><td>197</td><td>100.61119</td><td>100.6</td><td>-0.0340884607</td><td>-0.034199718</td></tr>\n",
       "\t<tr><th scope=row>result.113</th><td>198</td><td>100.42243</td><td>100.0</td><td>-0.0417135018</td><td>-0.045928932</td></tr>\n",
       "</tbody>\n",
       "</table>\n"
      ],
      "text/latex": [
       "A data.frame: 30 × 5\n",
       "\\begin{tabular}{r|lllll}\n",
       "  & month & PPI\\_predicted & PPI\\_true & inflation\\_predicted & inflation\\_true\\\\\n",
       "  & <dbl> & <dbl> & <dbl> & <dbl> & <dbl>\\\\\n",
       "\\hline\n",
       "\tresult.84 & 169 & 104.94485 & 106.9 &  0.1025097796 &  0.120968647\\\\\n",
       "\tresult.85 & 170 & 106.57538 & 107.8 &  0.1139235499 &  0.125348689\\\\\n",
       "\tresult.86 & 171 & 107.79145 & 107.6 &  0.1191890551 &  0.117411358\\\\\n",
       "\tresult.87 & 172 & 107.39421 & 106.4 &  0.1057204915 &  0.096419818\\\\\n",
       "\tresult.88 & 173 & 106.03216 & 105.5 &  0.0869717028 &  0.081940241\\\\\n",
       "\tresult.89 & 174 & 105.14156 & 105.5 &  0.0764814086 &  0.079884742\\\\\n",
       "\tresult.90 & 175 & 105.19959 & 105.5 &  0.0678353902 &  0.070686926\\\\\n",
       "\tresult.91 & 176 & 105.23903 & 106.3 &  0.0590962685 &  0.069127271\\\\\n",
       "\tresult.92 & 177 & 106.22769 & 106.9 &  0.0594151368 &  0.065724132\\\\\n",
       "\tresult.93 & 178 & 106.77504 & 106.9 &  0.0536254163 &  0.054795061\\\\\n",
       "\tresult.94 & 179 & 106.78032 & 105.8 &  0.0331362283 &  0.023913143\\\\\n",
       "\tresult.95 & 180 & 105.52128 & 104.9 &  0.0002016662 & -0.005703438\\\\\n",
       "\tresult.96 & 181 & 104.75429 & 104.3 & -0.0202762702 & -0.024622456\\\\\n",
       "\tresult.97 & 182 & 104.27967 & 103.7 & -0.0332011977 & -0.038775543\\\\\n",
       "\tresult.98 & 183 & 103.29810 & 103.1 & -0.0408016756 & -0.042721257\\\\\n",
       "\tresult.99 & 184 & 102.97056 & 103.4 & -0.0327624302 & -0.028600615\\\\\n",
       "\tresult.100 & 185 & 103.50085 & 104.1 & -0.0191311295 & -0.013358977\\\\\n",
       "\tresult.101 & 186 & 105.29741 & 104.7 & -0.0019221716 & -0.007611835\\\\\n",
       "\tresult.102 & 187 & 105.32853 & 104.6 & -0.0016266290 & -0.008567401\\\\\n",
       "\tresult.103 & 188 & 104.45466 & 104.1 & -0.0175122120 & -0.020913310\\\\\n",
       "\tresult.104 & 189 & 103.82861 & 103.6 & -0.0291522258 & -0.031356488\\\\\n",
       "\tresult.105 & 190 & 103.26663 & 103.3 & -0.0345795583 & -0.034256442\\\\\n",
       "\tresult.106 & 191 & 103.10339 & 102.7 & -0.0258182780 & -0.029738402\\\\\n",
       "\tresult.107 & 192 & 102.49748 & 100.9 & -0.0231693320 & -0.038877588\\\\\n",
       "\tresult.108 & 193 & 100.65548 & 100.1 & -0.0355678126 & -0.041101676\\\\\n",
       "\tresult.109 & 194 &  99.81845 & 100.1 & -0.0381491135 & -0.035332429\\\\\n",
       "\tresult.110 & 195 & 100.02387 & 100.4 & -0.0302905404 & -0.026537184\\\\\n",
       "\tresult.111 & 196 & 100.09470 & 100.9 & -0.0324882652 & -0.024475035\\\\\n",
       "\tresult.112 & 197 & 100.61119 & 100.6 & -0.0340884607 & -0.034199718\\\\\n",
       "\tresult.113 & 198 & 100.42243 & 100.0 & -0.0417135018 & -0.045928932\\\\\n",
       "\\end{tabular}\n"
      ],
      "text/markdown": [
       "\n",
       "A data.frame: 30 × 5\n",
       "\n",
       "| <!--/--> | month &lt;dbl&gt; | PPI_predicted &lt;dbl&gt; | PPI_true &lt;dbl&gt; | inflation_predicted &lt;dbl&gt; | inflation_true &lt;dbl&gt; |\n",
       "|---|---|---|---|---|---|\n",
       "| result.84 | 169 | 104.94485 | 106.9 |  0.1025097796 |  0.120968647 |\n",
       "| result.85 | 170 | 106.57538 | 107.8 |  0.1139235499 |  0.125348689 |\n",
       "| result.86 | 171 | 107.79145 | 107.6 |  0.1191890551 |  0.117411358 |\n",
       "| result.87 | 172 | 107.39421 | 106.4 |  0.1057204915 |  0.096419818 |\n",
       "| result.88 | 173 | 106.03216 | 105.5 |  0.0869717028 |  0.081940241 |\n",
       "| result.89 | 174 | 105.14156 | 105.5 |  0.0764814086 |  0.079884742 |\n",
       "| result.90 | 175 | 105.19959 | 105.5 |  0.0678353902 |  0.070686926 |\n",
       "| result.91 | 176 | 105.23903 | 106.3 |  0.0590962685 |  0.069127271 |\n",
       "| result.92 | 177 | 106.22769 | 106.9 |  0.0594151368 |  0.065724132 |\n",
       "| result.93 | 178 | 106.77504 | 106.9 |  0.0536254163 |  0.054795061 |\n",
       "| result.94 | 179 | 106.78032 | 105.8 |  0.0331362283 |  0.023913143 |\n",
       "| result.95 | 180 | 105.52128 | 104.9 |  0.0002016662 | -0.005703438 |\n",
       "| result.96 | 181 | 104.75429 | 104.3 | -0.0202762702 | -0.024622456 |\n",
       "| result.97 | 182 | 104.27967 | 103.7 | -0.0332011977 | -0.038775543 |\n",
       "| result.98 | 183 | 103.29810 | 103.1 | -0.0408016756 | -0.042721257 |\n",
       "| result.99 | 184 | 102.97056 | 103.4 | -0.0327624302 | -0.028600615 |\n",
       "| result.100 | 185 | 103.50085 | 104.1 | -0.0191311295 | -0.013358977 |\n",
       "| result.101 | 186 | 105.29741 | 104.7 | -0.0019221716 | -0.007611835 |\n",
       "| result.102 | 187 | 105.32853 | 104.6 | -0.0016266290 | -0.008567401 |\n",
       "| result.103 | 188 | 104.45466 | 104.1 | -0.0175122120 | -0.020913310 |\n",
       "| result.104 | 189 | 103.82861 | 103.6 | -0.0291522258 | -0.031356488 |\n",
       "| result.105 | 190 | 103.26663 | 103.3 | -0.0345795583 | -0.034256442 |\n",
       "| result.106 | 191 | 103.10339 | 102.7 | -0.0258182780 | -0.029738402 |\n",
       "| result.107 | 192 | 102.49748 | 100.9 | -0.0231693320 | -0.038877588 |\n",
       "| result.108 | 193 | 100.65548 | 100.1 | -0.0355678126 | -0.041101676 |\n",
       "| result.109 | 194 |  99.81845 | 100.1 | -0.0381491135 | -0.035332429 |\n",
       "| result.110 | 195 | 100.02387 | 100.4 | -0.0302905404 | -0.026537184 |\n",
       "| result.111 | 196 | 100.09470 | 100.9 | -0.0324882652 | -0.024475035 |\n",
       "| result.112 | 197 | 100.61119 | 100.6 | -0.0340884607 | -0.034199718 |\n",
       "| result.113 | 198 | 100.42243 | 100.0 | -0.0417135018 | -0.045928932 |\n",
       "\n"
      ],
      "text/plain": [
       "           month PPI_predicted PPI_true inflation_predicted inflation_true\n",
       "result.84  169   104.94485     106.9     0.1025097796        0.120968647  \n",
       "result.85  170   106.57538     107.8     0.1139235499        0.125348689  \n",
       "result.86  171   107.79145     107.6     0.1191890551        0.117411358  \n",
       "result.87  172   107.39421     106.4     0.1057204915        0.096419818  \n",
       "result.88  173   106.03216     105.5     0.0869717028        0.081940241  \n",
       "result.89  174   105.14156     105.5     0.0764814086        0.079884742  \n",
       "result.90  175   105.19959     105.5     0.0678353902        0.070686926  \n",
       "result.91  176   105.23903     106.3     0.0590962685        0.069127271  \n",
       "result.92  177   106.22769     106.9     0.0594151368        0.065724132  \n",
       "result.93  178   106.77504     106.9     0.0536254163        0.054795061  \n",
       "result.94  179   106.78032     105.8     0.0331362283        0.023913143  \n",
       "result.95  180   105.52128     104.9     0.0002016662       -0.005703438  \n",
       "result.96  181   104.75429     104.3    -0.0202762702       -0.024622456  \n",
       "result.97  182   104.27967     103.7    -0.0332011977       -0.038775543  \n",
       "result.98  183   103.29810     103.1    -0.0408016756       -0.042721257  \n",
       "result.99  184   102.97056     103.4    -0.0327624302       -0.028600615  \n",
       "result.100 185   103.50085     104.1    -0.0191311295       -0.013358977  \n",
       "result.101 186   105.29741     104.7    -0.0019221716       -0.007611835  \n",
       "result.102 187   105.32853     104.6    -0.0016266290       -0.008567401  \n",
       "result.103 188   104.45466     104.1    -0.0175122120       -0.020913310  \n",
       "result.104 189   103.82861     103.6    -0.0291522258       -0.031356488  \n",
       "result.105 190   103.26663     103.3    -0.0345795583       -0.034256442  \n",
       "result.106 191   103.10339     102.7    -0.0258182780       -0.029738402  \n",
       "result.107 192   102.49748     100.9    -0.0231693320       -0.038877588  \n",
       "result.108 193   100.65548     100.1    -0.0355678126       -0.041101676  \n",
       "result.109 194    99.81845     100.1    -0.0381491135       -0.035332429  \n",
       "result.110 195   100.02387     100.4    -0.0302905404       -0.026537184  \n",
       "result.111 196   100.09470     100.9    -0.0324882652       -0.024475035  \n",
       "result.112 197   100.61119     100.6    -0.0340884607       -0.034199718  \n",
       "result.113 198   100.42243     100.0    -0.0417135018       -0.045928932  "
      ]
     },
     "metadata": {},
     "output_type": "display_data"
    }
   ],
   "source": [
    "resultPPI"
   ]
  },
  {
   "cell_type": "markdown",
   "id": "ef67f0c9-dc29-43e0-ac21-65fc56b5b872",
   "metadata": {},
   "source": [
    "$$\\large\\textbf{IV) Reflection and conclusion}$$"
   ]
  },
  {
   "cell_type": "markdown",
   "id": "15a581fa-00a5-405a-bae4-229f04599de5",
   "metadata": {
    "tags": []
   },
   "source": [
    "\n",
    "We have developed a predictive framework utilizing Lasso regression to predict the values of the Consumer Price Index (CPI) and Producer Price Index (PPI) for the upcoming period. Our model presents a better performance compared to original basic LASSO model, by integrating components from principal component analysis (PCA) and taking into account lag variables. These adjustments allow us to take advantage of larger, more complex datasets and grasp more subtle relationships within the data.\n",
    "\n",
    "We have fine-tuned the parameters to optimize our model for the best predictive performance. Multiple tests were conducted to assess and compare the performance of various models. Interestingly, both CPI and PPI models were found to share the same optimal parameters: Lag = 1, PCA dimensions = 8, CPI window size = 60 and PPI window size = 84 respectively.\n",
    "\n",
    "A lag of 1 indicates that the previous month's data provides the most predictive power for the current month for both indices, underlining the importance of short-term past data in predicting CPI and PPI.The optimal number of PCA dimensions being 8 for both suggests that the same degree of complexity is adequate in capturing the key variations in both datasets.Similarly, the optimal window size being consistent at 60 periods implies that using the past 60 periods of data yields the most relevant information for predicting the following period for both CPI and PPI.\n",
    "\n",
    "In conclusion, our approach to Lasso regression, supplemented with PCA components and lag variables, has shown promising results in forecasting CPI and PPI values. The consistency of optimal parameters across the two indices speaks to the potential stability and applicability of our model, providing a solid foundation for further exploration in the field of economic forecasting."
   ]
  }
 ],
 "metadata": {
  "kernelspec": {
   "display_name": "R 4.2",
   "language": "R",
   "name": "ir"
  },
  "language_info": {
   "codemirror_mode": "r",
   "file_extension": ".r",
   "mimetype": "text/x-r-source",
   "name": "R",
   "pygments_lexer": "r",
   "version": "4.2.2"
  }
 },
 "nbformat": 4,
 "nbformat_minor": 5
}
